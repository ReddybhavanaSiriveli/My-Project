{
 "cells": [
  {
   "cell_type": "markdown",
   "id": "bedac32b",
   "metadata": {},
   "source": [
    "## Importing Libraries"
   ]
  },
  {
   "cell_type": "code",
   "execution_count": null,
   "id": "9329f035",
   "metadata": {},
   "outputs": [],
   "source": [
    "import warnings\n",
    "warnings.filterwarnings(\"ignore\")\n",
    "\n",
    "import os\n",
    "import numpy as np\n",
    "import pandas as pd\n",
    "import matplotlib.pyplot as plt\n",
    "import seaborn as sns\n",
    "%matplotlib inline\n",
    "from lib_file import lib_path\n",
    "from sklearn.model_selection import train_test_split\n",
    "from sklearn.metrics import accuracy_score,classification_report,confusion_matrix\n",
    "from sklearn.utils import resample"
   ]
  },
  {
   "cell_type": "markdown",
   "id": "fdbe7db7",
   "metadata": {},
   "source": [
    "## Data Loading"
   ]
  },
  {
   "cell_type": "code",
   "execution_count": 2,
   "id": "4d5ae1c9",
   "metadata": {},
   "outputs": [
    {
     "data": {
      "text/plain": [
       "['data.csv']"
      ]
     },
     "execution_count": 2,
     "metadata": {},
     "output_type": "execute_result"
    }
   ],
   "source": [
    "os.listdir(\"input\")"
   ]
  },
  {
   "cell_type": "code",
   "execution_count": 3,
   "id": "5148bbde",
   "metadata": {},
   "outputs": [],
   "source": [
    "data=pd.read_csv(\"input/data.csv\")"
   ]
  },
  {
   "cell_type": "code",
   "execution_count": 4,
   "id": "cc5b082c",
   "metadata": {},
   "outputs": [
    {
     "data": {
      "text/html": [
       "<div>\n",
       "<style scoped>\n",
       "    .dataframe tbody tr th:only-of-type {\n",
       "        vertical-align: middle;\n",
       "    }\n",
       "\n",
       "    .dataframe tbody tr th {\n",
       "        vertical-align: top;\n",
       "    }\n",
       "\n",
       "    .dataframe thead th {\n",
       "        text-align: right;\n",
       "    }\n",
       "</style>\n",
       "<table border=\"1\" class=\"dataframe\">\n",
       "  <thead>\n",
       "    <tr style=\"text-align: right;\">\n",
       "      <th></th>\n",
       "      <th>LOC_BLANK</th>\n",
       "      <th>BRANCH_COUNT</th>\n",
       "      <th>LOC_CODE_AND_COMMENT</th>\n",
       "      <th>LOC_COMMENTS</th>\n",
       "      <th>CYCLOMATIC_COMPLEXITY</th>\n",
       "      <th>DESIGN_COMPLEXITY</th>\n",
       "      <th>ESSENTIAL_COMPLEXITY</th>\n",
       "      <th>LOC_EXECUTABLE</th>\n",
       "      <th>HALSTEAD_CONTENT</th>\n",
       "      <th>HALSTEAD_DIFFICULTY</th>\n",
       "      <th>...</th>\n",
       "      <th>HALSTEAD_LENGTH</th>\n",
       "      <th>HALSTEAD_LEVEL</th>\n",
       "      <th>HALSTEAD_PROG_TIME</th>\n",
       "      <th>HALSTEAD_VOLUME</th>\n",
       "      <th>NUM_OPERANDS</th>\n",
       "      <th>NUM_OPERATORS</th>\n",
       "      <th>NUM_UNIQUE_OPERANDS</th>\n",
       "      <th>NUM_UNIQUE_OPERATORS</th>\n",
       "      <th>LOC_TOTAL</th>\n",
       "      <th>label</th>\n",
       "    </tr>\n",
       "  </thead>\n",
       "  <tbody>\n",
       "    <tr>\n",
       "      <th>0</th>\n",
       "      <td>447</td>\n",
       "      <td>826</td>\n",
       "      <td>12</td>\n",
       "      <td>157</td>\n",
       "      <td>470</td>\n",
       "      <td>385</td>\n",
       "      <td>113</td>\n",
       "      <td>2824</td>\n",
       "      <td>210.28</td>\n",
       "      <td>384.45</td>\n",
       "      <td>...</td>\n",
       "      <td>8441</td>\n",
       "      <td>0.00</td>\n",
       "      <td>1726654.57</td>\n",
       "      <td>80843.08</td>\n",
       "      <td>3021</td>\n",
       "      <td>5420</td>\n",
       "      <td>609</td>\n",
       "      <td>155</td>\n",
       "      <td>3442</td>\n",
       "      <td>Y</td>\n",
       "    </tr>\n",
       "    <tr>\n",
       "      <th>1</th>\n",
       "      <td>0</td>\n",
       "      <td>211</td>\n",
       "      <td>0</td>\n",
       "      <td>0</td>\n",
       "      <td>128</td>\n",
       "      <td>104</td>\n",
       "      <td>14</td>\n",
       "      <td>0</td>\n",
       "      <td>0.00</td>\n",
       "      <td>0.00</td>\n",
       "      <td>...</td>\n",
       "      <td>0</td>\n",
       "      <td>0.00</td>\n",
       "      <td>0.00</td>\n",
       "      <td>0.00</td>\n",
       "      <td>0</td>\n",
       "      <td>0</td>\n",
       "      <td>0</td>\n",
       "      <td>0</td>\n",
       "      <td>1129</td>\n",
       "      <td>Y</td>\n",
       "    </tr>\n",
       "    <tr>\n",
       "      <th>2</th>\n",
       "      <td>164</td>\n",
       "      <td>485</td>\n",
       "      <td>10</td>\n",
       "      <td>58</td>\n",
       "      <td>268</td>\n",
       "      <td>219</td>\n",
       "      <td>39</td>\n",
       "      <td>1588</td>\n",
       "      <td>202.98</td>\n",
       "      <td>213.53</td>\n",
       "      <td>...</td>\n",
       "      <td>4828</td>\n",
       "      <td>0.00</td>\n",
       "      <td>514156.64</td>\n",
       "      <td>43342.31</td>\n",
       "      <td>1730</td>\n",
       "      <td>3172</td>\n",
       "      <td>407</td>\n",
       "      <td>102</td>\n",
       "      <td>1824</td>\n",
       "      <td>Y</td>\n",
       "    </tr>\n",
       "    <tr>\n",
       "      <th>3</th>\n",
       "      <td>37</td>\n",
       "      <td>29</td>\n",
       "      <td>8</td>\n",
       "      <td>42</td>\n",
       "      <td>19</td>\n",
       "      <td>19</td>\n",
       "      <td>6</td>\n",
       "      <td>133</td>\n",
       "      <td>108.14</td>\n",
       "      <td>46.32</td>\n",
       "      <td>...</td>\n",
       "      <td>685</td>\n",
       "      <td>0.02</td>\n",
       "      <td>12891.31</td>\n",
       "      <td>5009.32</td>\n",
       "      <td>295</td>\n",
       "      <td>390</td>\n",
       "      <td>121</td>\n",
       "      <td>38</td>\n",
       "      <td>222</td>\n",
       "      <td>Y</td>\n",
       "    </tr>\n",
       "    <tr>\n",
       "      <th>4</th>\n",
       "      <td>11</td>\n",
       "      <td>405</td>\n",
       "      <td>0</td>\n",
       "      <td>17</td>\n",
       "      <td>404</td>\n",
       "      <td>2</td>\n",
       "      <td>1</td>\n",
       "      <td>814</td>\n",
       "      <td>101.20</td>\n",
       "      <td>206.01</td>\n",
       "      <td>...</td>\n",
       "      <td>2033</td>\n",
       "      <td>0.00</td>\n",
       "      <td>238607.05</td>\n",
       "      <td>20848.47</td>\n",
       "      <td>813</td>\n",
       "      <td>1220</td>\n",
       "      <td>811</td>\n",
       "      <td>411</td>\n",
       "      <td>844</td>\n",
       "      <td>Y</td>\n",
       "    </tr>\n",
       "    <tr>\n",
       "      <th>5</th>\n",
       "      <td>106</td>\n",
       "      <td>240</td>\n",
       "      <td>7</td>\n",
       "      <td>344</td>\n",
       "      <td>127</td>\n",
       "      <td>105</td>\n",
       "      <td>33</td>\n",
       "      <td>952</td>\n",
       "      <td>218.17</td>\n",
       "      <td>215.17</td>\n",
       "      <td>...</td>\n",
       "      <td>5669</td>\n",
       "      <td>0.00</td>\n",
       "      <td>561159.25</td>\n",
       "      <td>46943.69</td>\n",
       "      <td>2301</td>\n",
       "      <td>3368</td>\n",
       "      <td>262</td>\n",
       "      <td>49</td>\n",
       "      <td>1411</td>\n",
       "      <td>Y</td>\n",
       "    </tr>\n",
       "    <tr>\n",
       "      <th>6</th>\n",
       "      <td>101</td>\n",
       "      <td>464</td>\n",
       "      <td>11</td>\n",
       "      <td>75</td>\n",
       "      <td>263</td>\n",
       "      <td>256</td>\n",
       "      <td>140</td>\n",
       "      <td>1339</td>\n",
       "      <td>106.50</td>\n",
       "      <td>337.36</td>\n",
       "      <td>...</td>\n",
       "      <td>4308</td>\n",
       "      <td>0.00</td>\n",
       "      <td>673377.60</td>\n",
       "      <td>35928.07</td>\n",
       "      <td>1556</td>\n",
       "      <td>2752</td>\n",
       "      <td>226</td>\n",
       "      <td>98</td>\n",
       "      <td>1532</td>\n",
       "      <td>Y</td>\n",
       "    </tr>\n",
       "    <tr>\n",
       "      <th>7</th>\n",
       "      <td>67</td>\n",
       "      <td>187</td>\n",
       "      <td>4</td>\n",
       "      <td>1</td>\n",
       "      <td>94</td>\n",
       "      <td>63</td>\n",
       "      <td>27</td>\n",
       "      <td>391</td>\n",
       "      <td>233.07</td>\n",
       "      <td>58.04</td>\n",
       "      <td>...</td>\n",
       "      <td>1780</td>\n",
       "      <td>0.02</td>\n",
       "      <td>43621.22</td>\n",
       "      <td>13527.84</td>\n",
       "      <td>718</td>\n",
       "      <td>1062</td>\n",
       "      <td>167</td>\n",
       "      <td>27</td>\n",
       "      <td>466</td>\n",
       "      <td>Y</td>\n",
       "    </tr>\n",
       "    <tr>\n",
       "      <th>8</th>\n",
       "      <td>105</td>\n",
       "      <td>344</td>\n",
       "      <td>9</td>\n",
       "      <td>40</td>\n",
       "      <td>207</td>\n",
       "      <td>171</td>\n",
       "      <td>58</td>\n",
       "      <td>1124</td>\n",
       "      <td>122.60</td>\n",
       "      <td>269.46</td>\n",
       "      <td>...</td>\n",
       "      <td>3848</td>\n",
       "      <td>0.00</td>\n",
       "      <td>494537.33</td>\n",
       "      <td>33034.94</td>\n",
       "      <td>1432</td>\n",
       "      <td>2416</td>\n",
       "      <td>279</td>\n",
       "      <td>105</td>\n",
       "      <td>1280</td>\n",
       "      <td>Y</td>\n",
       "    </tr>\n",
       "    <tr>\n",
       "      <th>9</th>\n",
       "      <td>0</td>\n",
       "      <td>83</td>\n",
       "      <td>0</td>\n",
       "      <td>0</td>\n",
       "      <td>42</td>\n",
       "      <td>16</td>\n",
       "      <td>27</td>\n",
       "      <td>0</td>\n",
       "      <td>0.00</td>\n",
       "      <td>0.00</td>\n",
       "      <td>...</td>\n",
       "      <td>0</td>\n",
       "      <td>0.00</td>\n",
       "      <td>0.00</td>\n",
       "      <td>0.00</td>\n",
       "      <td>0</td>\n",
       "      <td>0</td>\n",
       "      <td>0</td>\n",
       "      <td>0</td>\n",
       "      <td>186</td>\n",
       "      <td>Y</td>\n",
       "    </tr>\n",
       "  </tbody>\n",
       "</table>\n",
       "<p>10 rows × 22 columns</p>\n",
       "</div>"
      ],
      "text/plain": [
       "   LOC_BLANK  BRANCH_COUNT  LOC_CODE_AND_COMMENT  LOC_COMMENTS  \\\n",
       "0        447           826                    12           157   \n",
       "1          0           211                     0             0   \n",
       "2        164           485                    10            58   \n",
       "3         37            29                     8            42   \n",
       "4         11           405                     0            17   \n",
       "5        106           240                     7           344   \n",
       "6        101           464                    11            75   \n",
       "7         67           187                     4             1   \n",
       "8        105           344                     9            40   \n",
       "9          0            83                     0             0   \n",
       "\n",
       "   CYCLOMATIC_COMPLEXITY  DESIGN_COMPLEXITY  ESSENTIAL_COMPLEXITY  \\\n",
       "0                    470                385                   113   \n",
       "1                    128                104                    14   \n",
       "2                    268                219                    39   \n",
       "3                     19                 19                     6   \n",
       "4                    404                  2                     1   \n",
       "5                    127                105                    33   \n",
       "6                    263                256                   140   \n",
       "7                     94                 63                    27   \n",
       "8                    207                171                    58   \n",
       "9                     42                 16                    27   \n",
       "\n",
       "   LOC_EXECUTABLE  HALSTEAD_CONTENT  HALSTEAD_DIFFICULTY  ...  \\\n",
       "0            2824            210.28               384.45  ...   \n",
       "1               0              0.00                 0.00  ...   \n",
       "2            1588            202.98               213.53  ...   \n",
       "3             133            108.14                46.32  ...   \n",
       "4             814            101.20               206.01  ...   \n",
       "5             952            218.17               215.17  ...   \n",
       "6            1339            106.50               337.36  ...   \n",
       "7             391            233.07                58.04  ...   \n",
       "8            1124            122.60               269.46  ...   \n",
       "9               0              0.00                 0.00  ...   \n",
       "\n",
       "   HALSTEAD_LENGTH  HALSTEAD_LEVEL  HALSTEAD_PROG_TIME  HALSTEAD_VOLUME  \\\n",
       "0             8441            0.00          1726654.57         80843.08   \n",
       "1                0            0.00                0.00             0.00   \n",
       "2             4828            0.00           514156.64         43342.31   \n",
       "3              685            0.02            12891.31          5009.32   \n",
       "4             2033            0.00           238607.05         20848.47   \n",
       "5             5669            0.00           561159.25         46943.69   \n",
       "6             4308            0.00           673377.60         35928.07   \n",
       "7             1780            0.02            43621.22         13527.84   \n",
       "8             3848            0.00           494537.33         33034.94   \n",
       "9                0            0.00                0.00             0.00   \n",
       "\n",
       "   NUM_OPERANDS  NUM_OPERATORS  NUM_UNIQUE_OPERANDS  NUM_UNIQUE_OPERATORS  \\\n",
       "0          3021           5420                  609                   155   \n",
       "1             0              0                    0                     0   \n",
       "2          1730           3172                  407                   102   \n",
       "3           295            390                  121                    38   \n",
       "4           813           1220                  811                   411   \n",
       "5          2301           3368                  262                    49   \n",
       "6          1556           2752                  226                    98   \n",
       "7           718           1062                  167                    27   \n",
       "8          1432           2416                  279                   105   \n",
       "9             0              0                    0                     0   \n",
       "\n",
       "   LOC_TOTAL  label  \n",
       "0       3442      Y  \n",
       "1       1129      Y  \n",
       "2       1824      Y  \n",
       "3        222      Y  \n",
       "4        844      Y  \n",
       "5       1411      Y  \n",
       "6       1532      Y  \n",
       "7        466      Y  \n",
       "8       1280      Y  \n",
       "9        186      Y  \n",
       "\n",
       "[10 rows x 22 columns]"
      ]
     },
     "execution_count": 4,
     "metadata": {},
     "output_type": "execute_result"
    }
   ],
   "source": [
    "data.head(10)"
   ]
  },
  {
   "cell_type": "markdown",
   "id": "09caee2c",
   "metadata": {},
   "source": [
    "## Data Preprocessing"
   ]
  },
  {
   "cell_type": "code",
   "execution_count": 5,
   "id": "5bf33943",
   "metadata": {},
   "outputs": [
    {
     "name": "stdout",
     "output_type": "stream",
     "text": [
      "10878\n"
     ]
    }
   ],
   "source": [
    "print(len(data))"
   ]
  },
  {
   "cell_type": "code",
   "execution_count": 6,
   "id": "748dca28",
   "metadata": {},
   "outputs": [
    {
     "name": "stdout",
     "output_type": "stream",
     "text": [
      "LOC_BLANK                0\n",
      "BRANCH_COUNT             0\n",
      "LOC_CODE_AND_COMMENT     0\n",
      "LOC_COMMENTS             0\n",
      "CYCLOMATIC_COMPLEXITY    0\n",
      "DESIGN_COMPLEXITY        0\n",
      "ESSENTIAL_COMPLEXITY     0\n",
      "LOC_EXECUTABLE           0\n",
      "HALSTEAD_CONTENT         0\n",
      "HALSTEAD_DIFFICULTY      0\n",
      "HALSTEAD_EFFORT          0\n",
      "HALSTEAD_ERROR_EST       0\n",
      "HALSTEAD_LENGTH          0\n",
      "HALSTEAD_LEVEL           0\n",
      "HALSTEAD_PROG_TIME       0\n",
      "HALSTEAD_VOLUME          0\n",
      "NUM_OPERANDS             0\n",
      "NUM_OPERATORS            0\n",
      "NUM_UNIQUE_OPERANDS      0\n",
      "NUM_UNIQUE_OPERATORS     0\n",
      "LOC_TOTAL                0\n",
      "label                    0\n",
      "dtype: int64\n"
     ]
    }
   ],
   "source": [
    "print(data.isnull().sum())"
   ]
  },
  {
   "cell_type": "code",
   "execution_count": 7,
   "id": "01525864",
   "metadata": {},
   "outputs": [
    {
     "name": "stdout",
     "output_type": "stream",
     "text": [
      "['Y' 'N']\n"
     ]
    }
   ],
   "source": [
    "print(data[\"label\"].unique())"
   ]
  },
  {
   "cell_type": "code",
   "execution_count": 8,
   "id": "20035988",
   "metadata": {},
   "outputs": [],
   "source": [
    "yes=data[data[\"label\"]==\"Y\"]\n",
    "no=data[data[\"label\"]==\"N\"]"
   ]
  },
  {
   "cell_type": "code",
   "execution_count": 9,
   "id": "001fe002",
   "metadata": {},
   "outputs": [
    {
     "data": {
      "image/png": "[encoded data removed]",
      "text/plain": [
       "<Figure size 800x600 with 1 Axes>"
      ]
     },
     "metadata": {},
     "output_type": "display_data"
    }
   ],
   "source": [
    "plt.figure(figsize=(8,6))\n",
    "plt.rcParams[\"font.size\"]=16\n",
    "chart_data=[len(yes),len(no)]\n",
    "labels=[\"Yes\",\"No\"]\n",
    "colors=[\"teal\",\"gold\"]\n",
    "plt.pie(x=chart_data,labels=labels,colors=colors,autopct=\"%.2f\")\n",
    "plt.title(\"Class Size Comparison\",fontsize=22)\n",
    "plt.show()"
   ]
  },
  {
   "cell_type": "code",
   "execution_count": 10,
   "id": "a1fd2eb2",
   "metadata": {},
   "outputs": [
    {
     "data": {
      "image/png": "[encoded data removed]",
      "text/plain": [
       "<Figure size 640x480 with 1 Axes>"
      ]
     },
     "metadata": {},
     "output_type": "display_data"
    }
   ],
   "source": [
    "plt.bar(height=chart_data,x=labels,color=colors)\n",
    "plt.show()"
   ]
  },
  {
   "cell_type": "code",
   "execution_count": 11,
   "id": "3dd331c6",
   "metadata": {},
   "outputs": [
    {
     "name": "stdout",
     "output_type": "stream",
     "text": [
      "22\n"
     ]
    }
   ],
   "source": [
    "print(len(data.columns))"
   ]
  },
  {
   "cell_type": "code",
   "execution_count": 12,
   "id": "2ff4fa94",
   "metadata": {},
   "outputs": [],
   "source": [
    "from sklearn import preprocessing"
   ]
  },
  {
   "cell_type": "code",
   "execution_count": 13,
   "id": "1bc7843a",
   "metadata": {},
   "outputs": [],
   "source": [
    "labelencoder=preprocessing.LabelEncoder()"
   ]
  },
  {
   "cell_type": "code",
   "execution_count": 14,
   "id": "0046edc5",
   "metadata": {},
   "outputs": [],
   "source": [
    "data[\"label\"]=labelencoder.fit_transform(data[\"label\"])"
   ]
  },
  {
   "cell_type": "code",
   "execution_count": 15,
   "id": "80d1aff9",
   "metadata": {},
   "outputs": [
    {
     "data": {
      "text/plain": [
       "0    1\n",
       "1    1\n",
       "2    1\n",
       "3    1\n",
       "4    1\n",
       "5    1\n",
       "6    1\n",
       "7    1\n",
       "8    1\n",
       "9    1\n",
       "Name: label, dtype: int32"
      ]
     },
     "execution_count": 15,
     "metadata": {},
     "output_type": "execute_result"
    }
   ],
   "source": [
    "data[\"label\"].head(10)"
   ]
  },
  {
   "cell_type": "code",
   "execution_count": 16,
   "id": "ee81a4f5",
   "metadata": {},
   "outputs": [],
   "source": [
    "X=data.drop(\"label\",axis=1)\n",
    "y=data[\"label\"]"
   ]
  },
  {
   "cell_type": "markdown",
   "id": "176af3ea",
   "metadata": {},
   "source": [
    "## Finding Important Features"
   ]
  },
  {
   "cell_type": "code",
   "execution_count": 17,
   "id": "374254e2",
   "metadata": {},
   "outputs": [],
   "source": [
    "from sklearn.ensemble import ExtraTreesClassifier"
   ]
  },
  {
   "cell_type": "code",
   "execution_count": 18,
   "id": "5181a88c",
   "metadata": {},
   "outputs": [],
   "source": [
    "ETC=ExtraTreesClassifier()"
   ]
  },
  {
   "cell_type": "code",
   "execution_count": 19,
   "id": "b5eea1be",
   "metadata": {},
   "outputs": [],
   "source": [
    "ETC_model=ETC.fit(X,y)"
   ]
  },
  {
   "cell_type": "code",
   "execution_count": 20,
   "id": "ddb3a4ed",
   "metadata": {},
   "outputs": [
    {
     "name": "stdout",
     "output_type": "stream",
     "text": [
      "[0.05267552 0.05326109 0.0252981  0.03815346 0.04945664 0.06068916\n",
      " 0.04521799 0.0496736  0.04636237 0.04115874 0.04091829 0.03723176\n",
      " 0.04229541 0.03746752 0.04022098 0.04466415 0.04431184 0.04445247\n",
      " 0.04762695 0.04553776 0.11332619]\n"
     ]
    }
   ],
   "source": [
    "print(ETC_model.feature_importances_)"
   ]
  },
  {
   "cell_type": "code",
   "execution_count": 21,
   "id": "a1429fef",
   "metadata": {},
   "outputs": [],
   "source": [
    "importants=ETC_model.feature_importances_"
   ]
  },
  {
   "cell_type": "code",
   "execution_count": 22,
   "id": "5c49d080",
   "metadata": {},
   "outputs": [
    {
     "name": "stdout",
     "output_type": "stream",
     "text": [
      "21\n"
     ]
    }
   ],
   "source": [
    "print(len(importants))"
   ]
  },
  {
   "cell_type": "code",
   "execution_count": 23,
   "id": "bed57d13",
   "metadata": {},
   "outputs": [],
   "source": [
    "mean_value=importants.mean()"
   ]
  },
  {
   "cell_type": "code",
   "execution_count": 24,
   "id": "17ce3d4a",
   "metadata": {},
   "outputs": [
    {
     "name": "stdout",
     "output_type": "stream",
     "text": [
      "0.047619047619047616\n"
     ]
    }
   ],
   "source": [
    "print(mean_value)"
   ]
  },
  {
   "cell_type": "code",
   "execution_count": 25,
   "id": "679d5f5e",
   "metadata": {},
   "outputs": [
    {
     "name": "stdout",
     "output_type": "stream",
     "text": [
      "LOC_BLANK\n",
      "BRANCH_COUNT\n",
      "CYCLOMATIC_COMPLEXITY\n",
      "DESIGN_COMPLEXITY\n",
      "LOC_EXECUTABLE\n",
      "NUM_UNIQUE_OPERANDS\n",
      "LOC_TOTAL\n"
     ]
    }
   ],
   "source": [
    "col_name = list(data.columns)\n",
    "\n",
    "col_name = col_name[:-1]\n",
    "\n",
    "im_value = []\n",
    "im_col = []\n",
    "col_n = []\n",
    "for i,j in enumerate(importants):\n",
    "    if j >= mean_value:\n",
    "        im_value.append(j)\n",
    "        col_n.append(col_name[i])\n",
    "        print(col_name[i])\n",
    "        im_col.append(i)"
   ]
  },
  {
   "cell_type": "code",
   "execution_count": 26,
   "id": "7915634b",
   "metadata": {
    "scrolled": true
   },
   "outputs": [
    {
     "data": {
      "text/plain": [
       "<AxesSubplot:>"
      ]
     },
     "execution_count": 26,
     "metadata": {},
     "output_type": "execute_result"
    },
    {
     "data": {
      "image/png": "[encoded data removed]",
      "text/plain": [
       "<Figure size 1500x700 with 1 Axes>"
      ]
     },
     "metadata": {},
     "output_type": "display_data"
    }
   ],
   "source": [
    "sns.set(rc={'figure.figsize':(15,7)})\n",
    "sns.barplot(x=col_n, y=im_value)"
   ]
  },
  {
   "cell_type": "markdown",
   "id": "b0fb8c98",
   "metadata": {},
   "source": [
    "## Taking Important Features"
   ]
  },
  {
   "cell_type": "code",
   "execution_count": 27,
   "id": "04f04f80",
   "metadata": {},
   "outputs": [
    {
     "data": {
      "text/html": [
       "<div>\n",
       "<style scoped>\n",
       "    .dataframe tbody tr th:only-of-type {\n",
       "        vertical-align: middle;\n",
       "    }\n",
       "\n",
       "    .dataframe tbody tr th {\n",
       "        vertical-align: top;\n",
       "    }\n",
       "\n",
       "    .dataframe thead th {\n",
       "        text-align: right;\n",
       "    }\n",
       "</style>\n",
       "<table border=\"1\" class=\"dataframe\">\n",
       "  <thead>\n",
       "    <tr style=\"text-align: right;\">\n",
       "      <th></th>\n",
       "      <th>LOC_BLANK</th>\n",
       "      <th>BRANCH_COUNT</th>\n",
       "      <th>CYCLOMATIC_COMPLEXITY</th>\n",
       "      <th>DESIGN_COMPLEXITY</th>\n",
       "      <th>LOC_EXECUTABLE</th>\n",
       "      <th>NUM_UNIQUE_OPERANDS</th>\n",
       "      <th>LOC_TOTAL</th>\n",
       "      <th>label</th>\n",
       "    </tr>\n",
       "  </thead>\n",
       "  <tbody>\n",
       "    <tr>\n",
       "      <th>0</th>\n",
       "      <td>4</td>\n",
       "      <td>3</td>\n",
       "      <td>2</td>\n",
       "      <td>2</td>\n",
       "      <td>16</td>\n",
       "      <td>11</td>\n",
       "      <td>23</td>\n",
       "      <td>0</td>\n",
       "    </tr>\n",
       "    <tr>\n",
       "      <th>1</th>\n",
       "      <td>6</td>\n",
       "      <td>5</td>\n",
       "      <td>4</td>\n",
       "      <td>4</td>\n",
       "      <td>31</td>\n",
       "      <td>16</td>\n",
       "      <td>39</td>\n",
       "      <td>1</td>\n",
       "    </tr>\n",
       "    <tr>\n",
       "      <th>2</th>\n",
       "      <td>0</td>\n",
       "      <td>3</td>\n",
       "      <td>2</td>\n",
       "      <td>2</td>\n",
       "      <td>0</td>\n",
       "      <td>0</td>\n",
       "      <td>50</td>\n",
       "      <td>1</td>\n",
       "    </tr>\n",
       "    <tr>\n",
       "      <th>3</th>\n",
       "      <td>0</td>\n",
       "      <td>1</td>\n",
       "      <td>1</td>\n",
       "      <td>1</td>\n",
       "      <td>2</td>\n",
       "      <td>2</td>\n",
       "      <td>4</td>\n",
       "      <td>0</td>\n",
       "    </tr>\n",
       "    <tr>\n",
       "      <th>4</th>\n",
       "      <td>3</td>\n",
       "      <td>13</td>\n",
       "      <td>7</td>\n",
       "      <td>6</td>\n",
       "      <td>16</td>\n",
       "      <td>11</td>\n",
       "      <td>24</td>\n",
       "      <td>0</td>\n",
       "    </tr>\n",
       "  </tbody>\n",
       "</table>\n",
       "</div>"
      ],
      "text/plain": [
       "   LOC_BLANK  BRANCH_COUNT  CYCLOMATIC_COMPLEXITY  DESIGN_COMPLEXITY  \\\n",
       "0          4             3                      2                  2   \n",
       "1          6             5                      4                  4   \n",
       "2          0             3                      2                  2   \n",
       "3          0             1                      1                  1   \n",
       "4          3            13                      7                  6   \n",
       "\n",
       "   LOC_EXECUTABLE  NUM_UNIQUE_OPERANDS  LOC_TOTAL  label  \n",
       "0              16                   11         23      0  \n",
       "1              31                   16         39      1  \n",
       "2               0                    0         50      1  \n",
       "3               2                    2          4      0  \n",
       "4              16                   11         24      0  "
      ]
     },
     "execution_count": 27,
     "metadata": {},
     "output_type": "execute_result"
    }
   ],
   "source": [
    "df = data[col_n]\n",
    "df['label'] = y.values.ravel()\n",
    "df = df.sample(frac=1).reset_index(drop=True)\n",
    "\n",
    "df.head()"
   ]
  },
  {
   "cell_type": "code",
   "execution_count": 28,
   "id": "cfd74330",
   "metadata": {},
   "outputs": [
    {
     "data": {
      "text/plain": [
       "(10878, 8)"
      ]
     },
     "execution_count": 28,
     "metadata": {},
     "output_type": "execute_result"
    }
   ],
   "source": [
    "df.shape"
   ]
  },
  {
   "cell_type": "code",
   "execution_count": 29,
   "id": "d0c18591",
   "metadata": {},
   "outputs": [],
   "source": [
    "oversampled = []\n",
    "\n",
    "for label in df['label'].unique():\n",
    "    label_df = df.loc[df['label'] == label]\n",
    "    resampled = resample(label_df, n_samples=15000)\n",
    "    oversampled.append(resampled)\n",
    "    \n",
    "df = pd.concat(objs=oversampled, ignore_index=True)"
   ]
  },
  {
   "cell_type": "code",
   "execution_count": 30,
   "id": "b5217722",
   "metadata": {},
   "outputs": [
    {
     "data": {
      "text/plain": [
       "(30000, 8)"
      ]
     },
     "execution_count": 30,
     "metadata": {},
     "output_type": "execute_result"
    }
   ],
   "source": [
    "df.shape"
   ]
  },
  {
   "cell_type": "code",
   "execution_count": 31,
   "id": "10ffacc9",
   "metadata": {},
   "outputs": [],
   "source": [
    "yes=df[df[\"label\"]==1]\n",
    "no=df[df[\"label\"]==0]"
   ]
  },
  {
   "cell_type": "code",
   "execution_count": 32,
   "id": "e2f702ab",
   "metadata": {},
   "outputs": [
    {
     "data": {
      "image/png": "[encoded data removed]",
      "text/plain": [
       "<Figure size 800x600 with 1 Axes>"
      ]
     },
     "metadata": {},
     "output_type": "display_data"
    }
   ],
   "source": [
    "plt.figure(figsize=(8,6))\n",
    "plt.rcParams[\"font.size\"]=16\n",
    "chart_data=[len(yes),len(no)]\n",
    "labels=[\"Yes\",\"No\"]\n",
    "colors=[\"teal\",\"gold\"]\n",
    "plt.pie(x=chart_data,labels=labels,colors=colors,autopct=\"%.2f\")\n",
    "plt.title(\"Class Size Comparison\",fontsize=22)\n",
    "plt.show()"
   ]
  },
  {
   "cell_type": "code",
   "execution_count": 33,
   "id": "45601d0f",
   "metadata": {},
   "outputs": [
    {
     "data": {
      "image/png": "[encoded data removed]",
      "text/plain": [
       "<Figure size 1500x700 with 1 Axes>"
      ]
     },
     "metadata": {},
     "output_type": "display_data"
    }
   ],
   "source": [
    "plt.bar(height=chart_data,x=labels,color=colors)\n",
    "plt.show()"
   ]
  },
  {
   "cell_type": "code",
   "execution_count": 34,
   "id": "1bcb6ad4",
   "metadata": {},
   "outputs": [],
   "source": [
    "X=df.drop(\"label\",axis=1)\n",
    "y=df[\"label\"]"
   ]
  },
  {
   "cell_type": "code",
   "execution_count": 35,
   "id": "53de8600",
   "metadata": {},
   "outputs": [
    {
     "data": {
      "text/html": [
       "<div>\n",
       "<style scoped>\n",
       "    .dataframe tbody tr th:only-of-type {\n",
       "        vertical-align: middle;\n",
       "    }\n",
       "\n",
       "    .dataframe tbody tr th {\n",
       "        vertical-align: top;\n",
       "    }\n",
       "\n",
       "    .dataframe thead th {\n",
       "        text-align: right;\n",
       "    }\n",
       "</style>\n",
       "<table border=\"1\" class=\"dataframe\">\n",
       "  <thead>\n",
       "    <tr style=\"text-align: right;\">\n",
       "      <th></th>\n",
       "      <th>LOC_BLANK</th>\n",
       "      <th>BRANCH_COUNT</th>\n",
       "      <th>CYCLOMATIC_COMPLEXITY</th>\n",
       "      <th>DESIGN_COMPLEXITY</th>\n",
       "      <th>LOC_EXECUTABLE</th>\n",
       "      <th>NUM_UNIQUE_OPERANDS</th>\n",
       "      <th>LOC_TOTAL</th>\n",
       "    </tr>\n",
       "  </thead>\n",
       "  <tbody>\n",
       "    <tr>\n",
       "      <th>0</th>\n",
       "      <td>3</td>\n",
       "      <td>1</td>\n",
       "      <td>1</td>\n",
       "      <td>1</td>\n",
       "      <td>10</td>\n",
       "      <td>11</td>\n",
       "      <td>15</td>\n",
       "    </tr>\n",
       "    <tr>\n",
       "      <th>1</th>\n",
       "      <td>1</td>\n",
       "      <td>3</td>\n",
       "      <td>2</td>\n",
       "      <td>2</td>\n",
       "      <td>8</td>\n",
       "      <td>6</td>\n",
       "      <td>11</td>\n",
       "    </tr>\n",
       "    <tr>\n",
       "      <th>2</th>\n",
       "      <td>0</td>\n",
       "      <td>1</td>\n",
       "      <td>1</td>\n",
       "      <td>1</td>\n",
       "      <td>2</td>\n",
       "      <td>2</td>\n",
       "      <td>4</td>\n",
       "    </tr>\n",
       "    <tr>\n",
       "      <th>3</th>\n",
       "      <td>7</td>\n",
       "      <td>21</td>\n",
       "      <td>11</td>\n",
       "      <td>4</td>\n",
       "      <td>26</td>\n",
       "      <td>22</td>\n",
       "      <td>36</td>\n",
       "    </tr>\n",
       "    <tr>\n",
       "      <th>4</th>\n",
       "      <td>2</td>\n",
       "      <td>9</td>\n",
       "      <td>5</td>\n",
       "      <td>1</td>\n",
       "      <td>13</td>\n",
       "      <td>6</td>\n",
       "      <td>18</td>\n",
       "    </tr>\n",
       "    <tr>\n",
       "      <th>5</th>\n",
       "      <td>5</td>\n",
       "      <td>5</td>\n",
       "      <td>3</td>\n",
       "      <td>2</td>\n",
       "      <td>16</td>\n",
       "      <td>19</td>\n",
       "      <td>24</td>\n",
       "    </tr>\n",
       "    <tr>\n",
       "      <th>6</th>\n",
       "      <td>3</td>\n",
       "      <td>5</td>\n",
       "      <td>3</td>\n",
       "      <td>3</td>\n",
       "      <td>20</td>\n",
       "      <td>16</td>\n",
       "      <td>25</td>\n",
       "    </tr>\n",
       "    <tr>\n",
       "      <th>7</th>\n",
       "      <td>0</td>\n",
       "      <td>3</td>\n",
       "      <td>2</td>\n",
       "      <td>1</td>\n",
       "      <td>0</td>\n",
       "      <td>0</td>\n",
       "      <td>16</td>\n",
       "    </tr>\n",
       "    <tr>\n",
       "      <th>8</th>\n",
       "      <td>0</td>\n",
       "      <td>3</td>\n",
       "      <td>2</td>\n",
       "      <td>2</td>\n",
       "      <td>0</td>\n",
       "      <td>0</td>\n",
       "      <td>15</td>\n",
       "    </tr>\n",
       "    <tr>\n",
       "      <th>9</th>\n",
       "      <td>0</td>\n",
       "      <td>7</td>\n",
       "      <td>4</td>\n",
       "      <td>2</td>\n",
       "      <td>0</td>\n",
       "      <td>0</td>\n",
       "      <td>23</td>\n",
       "    </tr>\n",
       "  </tbody>\n",
       "</table>\n",
       "</div>"
      ],
      "text/plain": [
       "   LOC_BLANK  BRANCH_COUNT  CYCLOMATIC_COMPLEXITY  DESIGN_COMPLEXITY  \\\n",
       "0          3             1                      1                  1   \n",
       "1          1             3                      2                  2   \n",
       "2          0             1                      1                  1   \n",
       "3          7            21                     11                  4   \n",
       "4          2             9                      5                  1   \n",
       "5          5             5                      3                  2   \n",
       "6          3             5                      3                  3   \n",
       "7          0             3                      2                  1   \n",
       "8          0             3                      2                  2   \n",
       "9          0             7                      4                  2   \n",
       "\n",
       "   LOC_EXECUTABLE  NUM_UNIQUE_OPERANDS  LOC_TOTAL  \n",
       "0              10                   11         15  \n",
       "1               8                    6         11  \n",
       "2               2                    2          4  \n",
       "3              26                   22         36  \n",
       "4              13                    6         18  \n",
       "5              16                   19         24  \n",
       "6              20                   16         25  \n",
       "7               0                    0         16  \n",
       "8               0                    0         15  \n",
       "9               0                    0         23  "
      ]
     },
     "execution_count": 35,
     "metadata": {},
     "output_type": "execute_result"
    }
   ],
   "source": [
    "X.head(10)"
   ]
  },
  {
   "cell_type": "code",
   "execution_count": 36,
   "id": "bd5065d9",
   "metadata": {},
   "outputs": [
    {
     "data": {
      "text/plain": [
       "(30000, 7)"
      ]
     },
     "execution_count": 36,
     "metadata": {},
     "output_type": "execute_result"
    }
   ],
   "source": [
    "X.shape"
   ]
  },
  {
   "cell_type": "markdown",
   "id": "126110ec",
   "metadata": {},
   "source": [
    "## Data Splitting"
   ]
  },
  {
   "cell_type": "code",
   "execution_count": 37,
   "id": "e6d1a43a",
   "metadata": {},
   "outputs": [],
   "source": [
    "X_train, X_test, y_train, y_test = train_test_split(X, y, test_size=0.2, random_state=42, stratify=y)"
   ]
  },
  {
   "cell_type": "code",
   "execution_count": 38,
   "id": "b62ec090",
   "metadata": {},
   "outputs": [
    {
     "name": "stdout",
     "output_type": "stream",
     "text": [
      "(24000, 7) (6000, 7) (24000,) (6000,)\n"
     ]
    }
   ],
   "source": [
    "print(X_train.shape,X_test.shape,y_train.shape,y_test.shape)"
   ]
  },
  {
   "cell_type": "markdown",
   "id": "014b6e45",
   "metadata": {},
   "source": [
    "## Model-1 RandomForestClassifier"
   ]
  },
  {
   "cell_type": "code",
   "execution_count": 39,
   "id": "e14106d9",
   "metadata": {},
   "outputs": [],
   "source": [
    "from sklearn.ensemble import RandomForestClassifier"
   ]
  },
  {
   "cell_type": "code",
   "execution_count": 40,
   "id": "f037f350",
   "metadata": {},
   "outputs": [],
   "source": [
    "rfc = RandomForestClassifier(n_estimators=1, min_samples_split=50, min_samples_leaf=50)"
   ]
  },
  {
   "cell_type": "code",
   "execution_count": 41,
   "id": "3a986df7",
   "metadata": {},
   "outputs": [
    {
     "data": {
      "text/html": [
       "<style>#sk-container-id-1 {color: black;background-color: white;}#sk-container-id-1 pre{padding: 0;}#sk-container-id-1 div.sk-toggleable {background-color: white;}#sk-container-id-1 label.sk-toggleable__label {cursor: pointer;display: block;width: 100%;margin-bottom: 0;padding: 0.3em;box-sizing: border-box;text-align: center;}#sk-container-id-1 label.sk-toggleable__label-arrow:before {content: \"▸\";float: left;margin-right: 0.25em;color: #696969;}#sk-container-id-1 label.sk-toggleable__label-arrow:hover:before {color: black;}#sk-container-id-1 div.sk-estimator:hover label.sk-toggleable__label-arrow:before {color: black;}#sk-container-id-1 div.sk-toggleable__content {max-height: 0;max-width: 0;overflow: hidden;text-align: left;background-color: #f0f8ff;}#sk-container-id-1 div.sk-toggleable__content pre {margin: 0.2em;color: black;border-radius: 0.25em;background-color: #f0f8ff;}#sk-container-id-1 input.sk-toggleable__control:checked~div.sk-toggleable__content {max-height: 200px;max-width: 100%;overflow: auto;}#sk-container-id-1 input.sk-toggleable__control:checked~label.sk-toggleable__label-arrow:before {content: \"▾\";}#sk-container-id-1 div.sk-estimator input.sk-toggleable__control:checked~label.sk-toggleable__label {background-color: #d4ebff;}#sk-container-id-1 div.sk-label input.sk-toggleable__control:checked~label.sk-toggleable__label {background-color: #d4ebff;}#sk-container-id-1 input.sk-hidden--visually {border: 0;clip: rect(1px 1px 1px 1px);clip: rect(1px, 1px, 1px, 1px);height: 1px;margin: -1px;overflow: hidden;padding: 0;position: absolute;width: 1px;}#sk-container-id-1 div.sk-estimator {font-family: monospace;background-color: #f0f8ff;border: 1px dotted black;border-radius: 0.25em;box-sizing: border-box;margin-bottom: 0.5em;}#sk-container-id-1 div.sk-estimator:hover {background-color: #d4ebff;}#sk-container-id-1 div.sk-parallel-item::after {content: \"\";width: 100%;border-bottom: 1px solid gray;flex-grow: 1;}#sk-container-id-1 div.sk-label:hover label.sk-toggleable__label {background-color: #d4ebff;}#sk-container-id-1 div.sk-serial::before {content: \"\";position: absolute;border-left: 1px solid gray;box-sizing: border-box;top: 0;bottom: 0;left: 50%;z-index: 0;}#sk-container-id-1 div.sk-serial {display: flex;flex-direction: column;align-items: center;background-color: white;padding-right: 0.2em;padding-left: 0.2em;position: relative;}#sk-container-id-1 div.sk-item {position: relative;z-index: 1;}#sk-container-id-1 div.sk-parallel {display: flex;align-items: stretch;justify-content: center;background-color: white;position: relative;}#sk-container-id-1 div.sk-item::before, #sk-container-id-1 div.sk-parallel-item::before {content: \"\";position: absolute;border-left: 1px solid gray;box-sizing: border-box;top: 0;bottom: 0;left: 50%;z-index: -1;}#sk-container-id-1 div.sk-parallel-item {display: flex;flex-direction: column;z-index: 1;position: relative;background-color: white;}#sk-container-id-1 div.sk-parallel-item:first-child::after {align-self: flex-end;width: 50%;}#sk-container-id-1 div.sk-parallel-item:last-child::after {align-self: flex-start;width: 50%;}#sk-container-id-1 div.sk-parallel-item:only-child::after {width: 0;}#sk-container-id-1 div.sk-dashed-wrapped {border: 1px dashed gray;margin: 0 0.4em 0.5em 0.4em;box-sizing: border-box;padding-bottom: 0.4em;background-color: white;}#sk-container-id-1 div.sk-label label {font-family: monospace;font-weight: bold;display: inline-block;line-height: 1.2em;}#sk-container-id-1 div.sk-label-container {text-align: center;}#sk-container-id-1 div.sk-container {/* jupyter's `normalize.less` sets `[hidden] { display: none; }` but bootstrap.min.css set `[hidden] { display: none !important; }` so we also need the `!important` here to be able to override the default hidden behavior on the sphinx rendered scikit-learn.org. See: https://github.com/scikit-learn/scikit-learn/issues/21755 */display: inline-block !important;position: relative;}#sk-container-id-1 div.sk-text-repr-fallback {display: none;}</style><div id=\"sk-container-id-1\" class=\"sk-top-container\"><div class=\"sk-text-repr-fallback\"><pre>RandomForestClassifier(min_samples_leaf=50, min_samples_split=50,\n",
       "                       n_estimators=1)</pre><b>In a Jupyter environment, please rerun this cell to show the HTML representation or trust the notebook. <br />On GitHub, the HTML representation is unable to render, please try loading this page with nbviewer.org.</b></div><div class=\"sk-container\" hidden><div class=\"sk-item\"><div class=\"sk-estimator sk-toggleable\"><input class=\"sk-toggleable__control sk-hidden--visually\" id=\"sk-estimator-id-1\" type=\"checkbox\" checked><label for=\"sk-estimator-id-1\" class=\"sk-toggleable__label sk-toggleable__label-arrow\">RandomForestClassifier</label><div class=\"sk-toggleable__content\"><pre>RandomForestClassifier(min_samples_leaf=50, min_samples_split=50,\n",
       "                       n_estimators=1)</pre></div></div></div></div></div>"
      ],
      "text/plain": [
       "RandomForestClassifier(min_samples_leaf=50, min_samples_split=50,\n",
       "                       n_estimators=1)"
      ]
     },
     "execution_count": 41,
     "metadata": {},
     "output_type": "execute_result"
    }
   ],
   "source": [
    "rfc.fit(X_train,y_train)"
   ]
  },
  {
   "cell_type": "code",
   "execution_count": 42,
   "id": "1ce2a454",
   "metadata": {},
   "outputs": [],
   "source": [
    "predictions = rfc.predict(X_test)"
   ]
  },
  {
   "cell_type": "code",
   "execution_count": 43,
   "id": "b16f96bb",
   "metadata": {},
   "outputs": [
    {
     "name": "stdout",
     "output_type": "stream",
     "text": [
      "Overall accuracy of RF model using test-set is : 69.6\n"
     ]
    }
   ],
   "source": [
    "RF_accuracy = accuracy_score(y_true=y_test, y_pred= predictions)\n",
    "print(\"Overall accuracy of RF model using test-set is :\" ,(RF_accuracy*100))"
   ]
  },
  {
   "cell_type": "markdown",
   "id": "f5c6212d",
   "metadata": {},
   "source": [
    "## Result Analysis"
   ]
  },
  {
   "cell_type": "markdown",
   "id": "7838a17b",
   "metadata": {},
   "source": [
    "### Classification Report"
   ]
  },
  {
   "cell_type": "code",
   "execution_count": 44,
   "id": "efc794a2",
   "metadata": {},
   "outputs": [
    {
     "name": "stdout",
     "output_type": "stream",
     "text": [
      "              precision    recall  f1-score   support\n",
      "\n",
      "           0       0.70      0.68      0.69      3000\n",
      "           1       0.69      0.71      0.70      3000\n",
      "\n",
      "    accuracy                           0.70      6000\n",
      "   macro avg       0.70      0.70      0.70      6000\n",
      "weighted avg       0.70      0.70      0.70      6000\n",
      "\n"
     ]
    }
   ],
   "source": [
    "print(classification_report(y_test, predictions))"
   ]
  },
  {
   "cell_type": "markdown",
   "id": "1fde9c3e",
   "metadata": {},
   "source": [
    "### Confusion Matrix"
   ]
  },
  {
   "cell_type": "code",
   "execution_count": 45,
   "id": "f61f6469",
   "metadata": {},
   "outputs": [
    {
     "data": {
      "image/png": "[encoded data removed]",
      "text/plain": [
       "<Figure size 800x500 with 2 Axes>"
      ]
     },
     "metadata": {},
     "output_type": "display_data"
    }
   ],
   "source": [
    "plt.figure(figsize=(8,5))\n",
    "sns.heatmap(confusion_matrix(y_test, predictions),annot=True,fmt='.4g')\n",
    "plt.show()"
   ]
  },
  {
   "cell_type": "markdown",
   "id": "459d99b8",
   "metadata": {},
   "source": [
    "## ANN (Artificial Neural Network)"
   ]
  },
  {
   "cell_type": "code",
   "execution_count": 46,
   "id": "ae8dec05",
   "metadata": {},
   "outputs": [],
   "source": [
    "from tensorflow.keras.utils import to_categorical"
   ]
  },
  {
   "cell_type": "code",
   "execution_count": 47,
   "id": "e9e9b2c3",
   "metadata": {},
   "outputs": [],
   "source": [
    "# y=to_categorical(y=y)\n",
    "y_train=to_categorical(y=y_train)\n",
    "y_test=to_categorical(y=y_test)"
   ]
  },
  {
   "cell_type": "code",
   "execution_count": 48,
   "id": "cb5d6345",
   "metadata": {},
   "outputs": [
    {
     "name": "stdout",
     "output_type": "stream",
     "text": [
      "[[1. 0.]\n",
      " [1. 0.]\n",
      " [0. 1.]\n",
      " ...\n",
      " [1. 0.]\n",
      " [0. 1.]\n",
      " [1. 0.]]\n"
     ]
    }
   ],
   "source": [
    "print(y_train)"
   ]
  },
  {
   "cell_type": "code",
   "execution_count": 49,
   "id": "a3d27ce6",
   "metadata": {},
   "outputs": [],
   "source": [
    "# importing the libraries for deep learning model\n",
    "from tensorflow.keras.models import Sequential\n",
    "from tensorflow.keras.layers import Dense, BatchNormalization\n",
    "from tensorflow.keras.layers import Dropout\n",
    "from tensorflow.keras.optimizers import Adam"
   ]
  },
  {
   "cell_type": "code",
   "execution_count": 50,
   "id": "b2c7afe4",
   "metadata": {},
   "outputs": [],
   "source": [
    "import tensorflow as tf\n",
    "tf.keras.backend.clear_session()"
   ]
  },
  {
   "cell_type": "code",
   "execution_count": 51,
   "id": "2b8de6f0",
   "metadata": {},
   "outputs": [],
   "source": [
    "input_dim = X_train.shape[1]\n",
    "#Rectified Linear Unit\n",
    "model = Sequential()\n",
    "model.add(Dense(64, input_dim=input_dim, activation='relu'))\n",
    "model.add(BatchNormalization())\n",
    "model.add(Dense(1024, activation='relu'))\n",
    "model.add(Dense(512, activation='relu'))\n",
    "model.add(Dense(256, activation='relu'))\n",
    "model.add(BatchNormalization())\n",
    "model.add(Dropout(0.4))\n",
    "model.add(Dense(128, activation='relu'))\n",
    "model.add(Dense(2, activation='sigmoid'))"
   ]
  },
  {
   "cell_type": "code",
   "execution_count": 52,
   "id": "e903ae89",
   "metadata": {},
   "outputs": [],
   "source": [
    "model.compile(loss='binary_crossentropy', optimizer='adam', metrics = ['accuracy'] )"
   ]
  },
  {
   "cell_type": "code",
   "execution_count": 53,
   "id": "f11eb30e",
   "metadata": {},
   "outputs": [
    {
     "name": "stdout",
     "output_type": "stream",
     "text": [
      "Model: \"sequential\"\n",
      "_________________________________________________________________\n",
      " Layer (type)                Output Shape              Param #   \n",
      "=================================================================\n",
      " dense (Dense)               (None, 64)                512       \n",
      "                                                                 \n",
      " batch_normalization (BatchN  (None, 64)               256       \n",
      " ormalization)                                                   \n",
      "                                                                 \n",
      " dense_1 (Dense)             (None, 1024)              66560     \n",
      "                                                                 \n",
      " dense_2 (Dense)             (None, 512)               524800    \n",
      "                                                                 \n",
      " dense_3 (Dense)             (None, 256)               131328    \n",
      "                                                                 \n",
      " batch_normalization_1 (Batc  (None, 256)              1024      \n",
      " hNormalization)                                                 \n",
      "                                                                 \n",
      " dropout (Dropout)           (None, 256)               0         \n",
      "                                                                 \n",
      " dense_4 (Dense)             (None, 128)               32896     \n",
      "                                                                 \n",
      " dense_5 (Dense)             (None, 2)                 258       \n",
      "                                                                 \n",
      "=================================================================\n",
      "Total params: 757,634\n",
      "Trainable params: 756,994\n",
      "Non-trainable params: 640\n",
      "_________________________________________________________________\n"
     ]
    }
   ],
   "source": [
    "model.summary()"
   ]
  },
  {
   "cell_type": "code",
   "execution_count": 54,
   "id": "fd9e1792",
   "metadata": {},
   "outputs": [
    {
     "name": "stdout",
     "output_type": "stream",
     "text": [
      "Epoch 1/200\n",
      "120/120 [==============================] - 4s 22ms/step - loss: 0.6431 - accuracy: 0.6535 - val_loss: 0.6411 - val_accuracy: 0.6482\n",
      "Epoch 2/200\n",
      "120/120 [==============================] - 2s 18ms/step - loss: 0.6254 - accuracy: 0.6594 - val_loss: 0.6273 - val_accuracy: 0.6520\n",
      "Epoch 3/200\n",
      "120/120 [==============================] - 2s 17ms/step - loss: 0.6182 - accuracy: 0.6638 - val_loss: 0.6192 - val_accuracy: 0.6527\n",
      "Epoch 4/200\n",
      "120/120 [==============================] - 2s 18ms/step - loss: 0.6166 - accuracy: 0.6627 - val_loss: 0.6163 - val_accuracy: 0.6563\n",
      "Epoch 5/200\n",
      "120/120 [==============================] - 2s 18ms/step - loss: 0.6148 - accuracy: 0.6650 - val_loss: 0.6231 - val_accuracy: 0.6483\n",
      "Epoch 6/200\n",
      "120/120 [==============================] - 2s 18ms/step - loss: 0.6121 - accuracy: 0.6673 - val_loss: 0.6172 - val_accuracy: 0.6543\n",
      "Epoch 7/200\n",
      "120/120 [==============================] - 2s 19ms/step - loss: 0.6067 - accuracy: 0.6686 - val_loss: 0.6168 - val_accuracy: 0.6642\n",
      "Epoch 8/200\n",
      "120/120 [==============================] - 2s 18ms/step - loss: 0.6065 - accuracy: 0.6670 - val_loss: 0.6063 - val_accuracy: 0.6645\n",
      "Epoch 9/200\n",
      "120/120 [==============================] - 2s 18ms/step - loss: 0.6018 - accuracy: 0.6722 - val_loss: 0.6085 - val_accuracy: 0.6672\n",
      "Epoch 10/200\n",
      "120/120 [==============================] - 2s 19ms/step - loss: 0.6001 - accuracy: 0.6745 - val_loss: 0.6103 - val_accuracy: 0.6748\n",
      "Epoch 11/200\n",
      "120/120 [==============================] - 2s 17ms/step - loss: 0.6003 - accuracy: 0.6757 - val_loss: 0.6065 - val_accuracy: 0.6765\n",
      "Epoch 12/200\n",
      "120/120 [==============================] - 2s 19ms/step - loss: 0.5974 - accuracy: 0.6773 - val_loss: 0.6046 - val_accuracy: 0.6792\n",
      "Epoch 13/200\n",
      "120/120 [==============================] - 3s 22ms/step - loss: 0.5958 - accuracy: 0.6776 - val_loss: 0.6131 - val_accuracy: 0.6663\n",
      "Epoch 14/200\n",
      "120/120 [==============================] - 2s 20ms/step - loss: 0.5917 - accuracy: 0.6830 - val_loss: 0.6095 - val_accuracy: 0.6593\n",
      "Epoch 15/200\n",
      "120/120 [==============================] - 2s 19ms/step - loss: 0.5915 - accuracy: 0.6839 - val_loss: 0.6003 - val_accuracy: 0.6785\n",
      "Epoch 16/200\n",
      "120/120 [==============================] - 2s 19ms/step - loss: 0.5907 - accuracy: 0.6858 - val_loss: 0.6050 - val_accuracy: 0.6737\n",
      "Epoch 17/200\n",
      "120/120 [==============================] - 2s 17ms/step - loss: 0.5888 - accuracy: 0.6846 - val_loss: 0.5933 - val_accuracy: 0.6868\n",
      "Epoch 18/200\n",
      "120/120 [==============================] - 2s 17ms/step - loss: 0.5884 - accuracy: 0.6862 - val_loss: 0.5974 - val_accuracy: 0.6783\n",
      "Epoch 19/200\n",
      "120/120 [==============================] - 2s 17ms/step - loss: 0.5870 - accuracy: 0.6887 - val_loss: 0.5899 - val_accuracy: 0.6890\n",
      "Epoch 20/200\n",
      "120/120 [==============================] - 2s 19ms/step - loss: 0.5845 - accuracy: 0.6901 - val_loss: 0.5897 - val_accuracy: 0.6837\n",
      "Epoch 21/200\n",
      "120/120 [==============================] - 2s 19ms/step - loss: 0.5828 - accuracy: 0.6942 - val_loss: 0.6029 - val_accuracy: 0.6812\n",
      "Epoch 22/200\n",
      "120/120 [==============================] - 2s 20ms/step - loss: 0.5802 - accuracy: 0.6933 - val_loss: 0.5878 - val_accuracy: 0.6925\n",
      "Epoch 23/200\n",
      "120/120 [==============================] - 2s 18ms/step - loss: 0.5777 - accuracy: 0.6953 - val_loss: 0.5890 - val_accuracy: 0.6867\n",
      "Epoch 24/200\n",
      "120/120 [==============================] - 2s 17ms/step - loss: 0.5776 - accuracy: 0.6985 - val_loss: 0.5812 - val_accuracy: 0.6928\n",
      "Epoch 25/200\n",
      "120/120 [==============================] - 2s 18ms/step - loss: 0.5731 - accuracy: 0.6991 - val_loss: 0.5978 - val_accuracy: 0.6730\n",
      "Epoch 26/200\n",
      "120/120 [==============================] - 3s 21ms/step - loss: 0.5713 - accuracy: 0.7024 - val_loss: 0.5880 - val_accuracy: 0.6883\n",
      "Epoch 27/200\n",
      "120/120 [==============================] - 2s 18ms/step - loss: 0.5678 - accuracy: 0.7059 - val_loss: 0.5765 - val_accuracy: 0.7077\n",
      "Epoch 28/200\n",
      "120/120 [==============================] - 2s 20ms/step - loss: 0.5655 - accuracy: 0.7089 - val_loss: 0.5782 - val_accuracy: 0.7045\n",
      "Epoch 29/200\n",
      "120/120 [==============================] - 2s 17ms/step - loss: 0.5597 - accuracy: 0.7148 - val_loss: 0.5839 - val_accuracy: 0.6978\n",
      "Epoch 30/200\n",
      "120/120 [==============================] - 2s 16ms/step - loss: 0.5585 - accuracy: 0.7135 - val_loss: 0.5697 - val_accuracy: 0.7073\n",
      "Epoch 31/200\n",
      "120/120 [==============================] - 2s 16ms/step - loss: 0.5570 - accuracy: 0.7144 - val_loss: 0.5652 - val_accuracy: 0.7155\n",
      "Epoch 32/200\n",
      "120/120 [==============================] - 2s 16ms/step - loss: 0.5506 - accuracy: 0.7230 - val_loss: 0.5660 - val_accuracy: 0.7155\n",
      "Epoch 33/200\n",
      "120/120 [==============================] - 2s 16ms/step - loss: 0.5481 - accuracy: 0.7209 - val_loss: 0.5668 - val_accuracy: 0.7188\n",
      "Epoch 34/200\n",
      "120/120 [==============================] - 2s 16ms/step - loss: 0.5405 - accuracy: 0.7296 - val_loss: 0.5533 - val_accuracy: 0.7188\n",
      "Epoch 35/200\n",
      "120/120 [==============================] - 2s 16ms/step - loss: 0.5398 - accuracy: 0.7305 - val_loss: 0.5510 - val_accuracy: 0.7278\n",
      "Epoch 36/200\n",
      "120/120 [==============================] - 2s 17ms/step - loss: 0.5370 - accuracy: 0.7337 - val_loss: 0.5521 - val_accuracy: 0.7213\n",
      "Epoch 37/200\n",
      "120/120 [==============================] - 2s 17ms/step - loss: 0.5327 - accuracy: 0.7350 - val_loss: 0.5531 - val_accuracy: 0.7138\n",
      "Epoch 38/200\n",
      "120/120 [==============================] - 2s 16ms/step - loss: 0.5295 - accuracy: 0.7370 - val_loss: 0.5542 - val_accuracy: 0.7190\n",
      "Epoch 39/200\n",
      "120/120 [==============================] - 2s 17ms/step - loss: 0.5247 - accuracy: 0.7374 - val_loss: 0.5453 - val_accuracy: 0.7323\n",
      "Epoch 40/200\n",
      "120/120 [==============================] - 2s 16ms/step - loss: 0.5226 - accuracy: 0.7419 - val_loss: 0.5405 - val_accuracy: 0.7327\n",
      "Epoch 41/200\n",
      "120/120 [==============================] - 2s 17ms/step - loss: 0.5141 - accuracy: 0.7455 - val_loss: 0.5348 - val_accuracy: 0.7302\n",
      "Epoch 42/200\n",
      "120/120 [==============================] - 2s 17ms/step - loss: 0.5101 - accuracy: 0.7506 - val_loss: 0.5335 - val_accuracy: 0.7325\n",
      "Epoch 43/200\n",
      "120/120 [==============================] - 2s 17ms/step - loss: 0.5071 - accuracy: 0.7523 - val_loss: 0.5342 - val_accuracy: 0.7370\n",
      "Epoch 44/200\n",
      "120/120 [==============================] - 2s 19ms/step - loss: 0.5066 - accuracy: 0.7529 - val_loss: 0.5260 - val_accuracy: 0.7388\n",
      "Epoch 45/200\n",
      "120/120 [==============================] - 2s 19ms/step - loss: 0.4969 - accuracy: 0.7580 - val_loss: 0.5220 - val_accuracy: 0.7413\n",
      "Epoch 46/200\n",
      "120/120 [==============================] - 2s 18ms/step - loss: 0.4906 - accuracy: 0.7624 - val_loss: 0.5214 - val_accuracy: 0.7400\n",
      "Epoch 47/200\n",
      "120/120 [==============================] - 2s 19ms/step - loss: 0.4861 - accuracy: 0.7667 - val_loss: 0.5105 - val_accuracy: 0.7430\n",
      "Epoch 48/200\n",
      "120/120 [==============================] - 2s 16ms/step - loss: 0.4793 - accuracy: 0.7696 - val_loss: 0.5012 - val_accuracy: 0.7595\n",
      "Epoch 49/200\n",
      "120/120 [==============================] - 2s 17ms/step - loss: 0.4758 - accuracy: 0.7726 - val_loss: 0.5159 - val_accuracy: 0.7487\n",
      "Epoch 50/200\n",
      "120/120 [==============================] - 2s 16ms/step - loss: 0.4767 - accuracy: 0.7708 - val_loss: 0.5168 - val_accuracy: 0.7440\n",
      "Epoch 51/200\n",
      "120/120 [==============================] - 2s 15ms/step - loss: 0.4684 - accuracy: 0.7738 - val_loss: 0.5030 - val_accuracy: 0.7652\n",
      "Epoch 52/200\n",
      "120/120 [==============================] - 2s 16ms/step - loss: 0.4620 - accuracy: 0.7790 - val_loss: 0.4995 - val_accuracy: 0.7562\n",
      "Epoch 53/200\n",
      "120/120 [==============================] - 2s 16ms/step - loss: 0.4591 - accuracy: 0.7827 - val_loss: 0.4905 - val_accuracy: 0.7578\n",
      "Epoch 54/200\n",
      "120/120 [==============================] - 2s 16ms/step - loss: 0.4593 - accuracy: 0.7823 - val_loss: 0.4782 - val_accuracy: 0.7730\n",
      "Epoch 55/200\n",
      "120/120 [==============================] - 2s 16ms/step - loss: 0.4536 - accuracy: 0.7850 - val_loss: 0.4704 - val_accuracy: 0.7788\n",
      "Epoch 56/200\n",
      "120/120 [==============================] - 2s 18ms/step - loss: 0.4506 - accuracy: 0.7853 - val_loss: 0.4722 - val_accuracy: 0.7677\n",
      "Epoch 57/200\n",
      "120/120 [==============================] - 2s 16ms/step - loss: 0.4483 - accuracy: 0.7894 - val_loss: 0.4723 - val_accuracy: 0.7742\n",
      "Epoch 58/200\n",
      "120/120 [==============================] - 2s 17ms/step - loss: 0.4433 - accuracy: 0.7891 - val_loss: 0.4823 - val_accuracy: 0.7687\n",
      "Epoch 59/200\n",
      "120/120 [==============================] - 2s 16ms/step - loss: 0.4412 - accuracy: 0.7907 - val_loss: 0.4634 - val_accuracy: 0.7752\n",
      "Epoch 60/200\n",
      "120/120 [==============================] - 2s 16ms/step - loss: 0.4378 - accuracy: 0.7931 - val_loss: 0.4828 - val_accuracy: 0.7693\n",
      "Epoch 61/200\n",
      "120/120 [==============================] - 2s 16ms/step - loss: 0.4316 - accuracy: 0.7972 - val_loss: 0.4781 - val_accuracy: 0.7730\n",
      "Epoch 62/200\n",
      "120/120 [==============================] - 2s 15ms/step - loss: 0.4287 - accuracy: 0.7950 - val_loss: 0.4684 - val_accuracy: 0.7692\n",
      "Epoch 63/200\n",
      "120/120 [==============================] - 2s 16ms/step - loss: 0.4280 - accuracy: 0.7965 - val_loss: 0.4442 - val_accuracy: 0.7905\n",
      "Epoch 64/200\n",
      "120/120 [==============================] - 2s 15ms/step - loss: 0.4196 - accuracy: 0.8034 - val_loss: 0.4665 - val_accuracy: 0.7738\n",
      "Epoch 65/200\n",
      "120/120 [==============================] - 2s 16ms/step - loss: 0.4205 - accuracy: 0.8012 - val_loss: 0.4459 - val_accuracy: 0.7832\n",
      "Epoch 66/200\n",
      "120/120 [==============================] - 2s 16ms/step - loss: 0.4113 - accuracy: 0.8053 - val_loss: 0.4413 - val_accuracy: 0.7897\n",
      "Epoch 67/200\n",
      "120/120 [==============================] - 2s 17ms/step - loss: 0.4091 - accuracy: 0.8066 - val_loss: 0.4366 - val_accuracy: 0.7948\n",
      "Epoch 68/200\n",
      "120/120 [==============================] - 2s 16ms/step - loss: 0.4058 - accuracy: 0.8104 - val_loss: 0.4499 - val_accuracy: 0.7778\n",
      "Epoch 69/200\n",
      "120/120 [==============================] - 2s 17ms/step - loss: 0.4089 - accuracy: 0.8079 - val_loss: 0.4297 - val_accuracy: 0.7925\n",
      "Epoch 70/200\n",
      "120/120 [==============================] - 2s 17ms/step - loss: 0.4018 - accuracy: 0.8117 - val_loss: 0.4314 - val_accuracy: 0.7923\n",
      "Epoch 71/200\n",
      "120/120 [==============================] - 2s 17ms/step - loss: 0.4025 - accuracy: 0.8101 - val_loss: 0.4391 - val_accuracy: 0.7908\n",
      "Epoch 72/200\n",
      "120/120 [==============================] - 2s 17ms/step - loss: 0.3961 - accuracy: 0.8140 - val_loss: 0.4372 - val_accuracy: 0.7962\n",
      "Epoch 73/200\n",
      "120/120 [==============================] - 2s 16ms/step - loss: 0.3953 - accuracy: 0.8152 - val_loss: 0.4524 - val_accuracy: 0.7747\n",
      "Epoch 74/200\n",
      "120/120 [==============================] - 2s 18ms/step - loss: 0.3915 - accuracy: 0.8166 - val_loss: 0.4012 - val_accuracy: 0.8118\n",
      "Epoch 75/200\n",
      "120/120 [==============================] - 2s 16ms/step - loss: 0.3904 - accuracy: 0.8185 - val_loss: 0.4131 - val_accuracy: 0.8087\n",
      "Epoch 76/200\n",
      "120/120 [==============================] - 2s 18ms/step - loss: 0.3796 - accuracy: 0.8244 - val_loss: 0.4068 - val_accuracy: 0.8087\n",
      "Epoch 77/200\n",
      "120/120 [==============================] - 2s 16ms/step - loss: 0.3799 - accuracy: 0.8210 - val_loss: 0.4230 - val_accuracy: 0.8000\n",
      "Epoch 78/200\n",
      "120/120 [==============================] - 2s 17ms/step - loss: 0.3845 - accuracy: 0.8202 - val_loss: 0.4256 - val_accuracy: 0.7978\n",
      "Epoch 79/200\n",
      "120/120 [==============================] - 2s 18ms/step - loss: 0.3788 - accuracy: 0.8240 - val_loss: 0.4226 - val_accuracy: 0.7985\n",
      "Epoch 80/200\n",
      "120/120 [==============================] - 2s 16ms/step - loss: 0.3716 - accuracy: 0.8280 - val_loss: 0.4218 - val_accuracy: 0.8005\n",
      "Epoch 81/200\n",
      "120/120 [==============================] - 2s 17ms/step - loss: 0.3753 - accuracy: 0.8240 - val_loss: 0.4410 - val_accuracy: 0.7952\n",
      "Epoch 82/200\n",
      "120/120 [==============================] - 2s 16ms/step - loss: 0.3674 - accuracy: 0.8291 - val_loss: 0.4188 - val_accuracy: 0.7963\n",
      "Epoch 83/200\n",
      "120/120 [==============================] - 2s 18ms/step - loss: 0.3722 - accuracy: 0.8274 - val_loss: 0.4315 - val_accuracy: 0.7943\n",
      "Epoch 84/200\n",
      "120/120 [==============================] - 2s 18ms/step - loss: 0.3664 - accuracy: 0.8274 - val_loss: 0.3966 - val_accuracy: 0.8103\n",
      "Epoch 85/200\n",
      "120/120 [==============================] - 2s 21ms/step - loss: 0.3575 - accuracy: 0.8336 - val_loss: 0.4006 - val_accuracy: 0.8185\n",
      "Epoch 86/200\n",
      "120/120 [==============================] - 2s 20ms/step - loss: 0.3613 - accuracy: 0.8317 - val_loss: 0.3737 - val_accuracy: 0.8312\n",
      "Epoch 87/200\n",
      "120/120 [==============================] - 2s 15ms/step - loss: 0.3551 - accuracy: 0.8339 - val_loss: 0.4038 - val_accuracy: 0.8127\n",
      "Epoch 88/200\n",
      "120/120 [==============================] - 3s 21ms/step - loss: 0.3597 - accuracy: 0.8338 - val_loss: 0.3882 - val_accuracy: 0.8165\n",
      "Epoch 89/200\n",
      "120/120 [==============================] - 2s 21ms/step - loss: 0.3554 - accuracy: 0.8360 - val_loss: 0.3886 - val_accuracy: 0.8182\n",
      "Epoch 90/200\n",
      "120/120 [==============================] - 2s 20ms/step - loss: 0.3530 - accuracy: 0.8362 - val_loss: 0.4001 - val_accuracy: 0.8088\n",
      "Epoch 91/200\n",
      "120/120 [==============================] - 2s 19ms/step - loss: 0.3509 - accuracy: 0.8397 - val_loss: 0.3863 - val_accuracy: 0.8155\n",
      "Epoch 92/200\n",
      "120/120 [==============================] - 2s 18ms/step - loss: 0.3484 - accuracy: 0.8376 - val_loss: 0.3841 - val_accuracy: 0.8163\n",
      "Epoch 93/200\n",
      "120/120 [==============================] - 2s 17ms/step - loss: 0.3458 - accuracy: 0.8392 - val_loss: 0.4059 - val_accuracy: 0.8105\n",
      "Epoch 94/200\n",
      "120/120 [==============================] - 2s 17ms/step - loss: 0.3544 - accuracy: 0.8369 - val_loss: 0.3688 - val_accuracy: 0.8322\n",
      "Epoch 95/200\n",
      "120/120 [==============================] - 2s 16ms/step - loss: 0.3356 - accuracy: 0.8457 - val_loss: 0.3798 - val_accuracy: 0.8198\n",
      "Epoch 96/200\n",
      "120/120 [==============================] - 2s 16ms/step - loss: 0.3359 - accuracy: 0.8426 - val_loss: 0.3760 - val_accuracy: 0.8278\n",
      "Epoch 97/200\n",
      "120/120 [==============================] - 2s 17ms/step - loss: 0.3315 - accuracy: 0.8452 - val_loss: 0.3949 - val_accuracy: 0.8187\n",
      "Epoch 98/200\n",
      "120/120 [==============================] - 2s 15ms/step - loss: 0.3358 - accuracy: 0.8446 - val_loss: 0.3929 - val_accuracy: 0.8245\n",
      "Epoch 99/200\n",
      "120/120 [==============================] - 2s 17ms/step - loss: 0.3367 - accuracy: 0.8444 - val_loss: 0.4034 - val_accuracy: 0.8065\n",
      "Epoch 100/200\n",
      "120/120 [==============================] - 2s 15ms/step - loss: 0.3348 - accuracy: 0.8455 - val_loss: 0.3755 - val_accuracy: 0.8288\n",
      "Epoch 101/200\n",
      "120/120 [==============================] - 2s 16ms/step - loss: 0.3342 - accuracy: 0.8448 - val_loss: 0.3802 - val_accuracy: 0.8263\n",
      "Epoch 102/200\n",
      "120/120 [==============================] - 2s 16ms/step - loss: 0.3258 - accuracy: 0.8484 - val_loss: 0.3637 - val_accuracy: 0.8325\n",
      "Epoch 103/200\n",
      "120/120 [==============================] - 2s 16ms/step - loss: 0.3336 - accuracy: 0.8428 - val_loss: 0.3806 - val_accuracy: 0.8213\n",
      "Epoch 104/200\n",
      "120/120 [==============================] - 2s 16ms/step - loss: 0.3177 - accuracy: 0.8527 - val_loss: 0.3593 - val_accuracy: 0.8313\n",
      "Epoch 105/200\n",
      "120/120 [==============================] - 2s 16ms/step - loss: 0.3350 - accuracy: 0.8460 - val_loss: 0.4018 - val_accuracy: 0.8135\n",
      "Epoch 106/200\n",
      "120/120 [==============================] - 2s 18ms/step - loss: 0.3323 - accuracy: 0.8476 - val_loss: 0.3657 - val_accuracy: 0.8312\n",
      "Epoch 107/200\n",
      "120/120 [==============================] - 2s 19ms/step - loss: 0.3197 - accuracy: 0.8535 - val_loss: 0.3715 - val_accuracy: 0.8315\n",
      "Epoch 108/200\n",
      "120/120 [==============================] - 3s 21ms/step - loss: 0.3254 - accuracy: 0.8497 - val_loss: 0.3641 - val_accuracy: 0.8330\n",
      "Epoch 109/200\n",
      "120/120 [==============================] - 2s 17ms/step - loss: 0.3214 - accuracy: 0.8493 - val_loss: 0.3479 - val_accuracy: 0.8407\n",
      "Epoch 110/200\n",
      "120/120 [==============================] - 2s 16ms/step - loss: 0.3156 - accuracy: 0.8540 - val_loss: 0.3773 - val_accuracy: 0.8242\n",
      "Epoch 111/200\n",
      "120/120 [==============================] - 2s 18ms/step - loss: 0.3231 - accuracy: 0.8505 - val_loss: 0.3592 - val_accuracy: 0.8318\n",
      "Epoch 112/200\n",
      "120/120 [==============================] - 2s 16ms/step - loss: 0.3174 - accuracy: 0.8540 - val_loss: 0.3751 - val_accuracy: 0.8295\n",
      "Epoch 113/200\n"
     ]
    },
    {
     "name": "stdout",
     "output_type": "stream",
     "text": [
      "120/120 [==============================] - 2s 16ms/step - loss: 0.3185 - accuracy: 0.8534 - val_loss: 0.3508 - val_accuracy: 0.8427\n",
      "Epoch 114/200\n",
      "120/120 [==============================] - 2s 16ms/step - loss: 0.3106 - accuracy: 0.8594 - val_loss: 0.3673 - val_accuracy: 0.8313\n",
      "Epoch 115/200\n",
      "120/120 [==============================] - 2s 16ms/step - loss: 0.3161 - accuracy: 0.8535 - val_loss: 0.3457 - val_accuracy: 0.8460\n",
      "Epoch 116/200\n",
      "120/120 [==============================] - 2s 16ms/step - loss: 0.3172 - accuracy: 0.8530 - val_loss: 0.3533 - val_accuracy: 0.8405\n",
      "Epoch 117/200\n",
      "120/120 [==============================] - 2s 16ms/step - loss: 0.3067 - accuracy: 0.8577 - val_loss: 0.3591 - val_accuracy: 0.8393\n",
      "Epoch 118/200\n",
      "120/120 [==============================] - 2s 16ms/step - loss: 0.3013 - accuracy: 0.8602 - val_loss: 0.3458 - val_accuracy: 0.8460\n",
      "Epoch 119/200\n",
      "120/120 [==============================] - 2s 15ms/step - loss: 0.3114 - accuracy: 0.8573 - val_loss: 0.3338 - val_accuracy: 0.8468\n",
      "Epoch 120/200\n",
      "120/120 [==============================] - 2s 16ms/step - loss: 0.3119 - accuracy: 0.8560 - val_loss: 0.3331 - val_accuracy: 0.8507\n",
      "Epoch 121/200\n",
      "120/120 [==============================] - 2s 15ms/step - loss: 0.3065 - accuracy: 0.8578 - val_loss: 0.3541 - val_accuracy: 0.8408\n",
      "Epoch 122/200\n",
      "120/120 [==============================] - 2s 15ms/step - loss: 0.3035 - accuracy: 0.8585 - val_loss: 0.3558 - val_accuracy: 0.8428\n",
      "Epoch 123/200\n",
      "120/120 [==============================] - 2s 15ms/step - loss: 0.3015 - accuracy: 0.8630 - val_loss: 0.3404 - val_accuracy: 0.8460\n",
      "Epoch 124/200\n",
      "120/120 [==============================] - 2s 18ms/step - loss: 0.3062 - accuracy: 0.8580 - val_loss: 0.3600 - val_accuracy: 0.8303\n",
      "Epoch 125/200\n",
      "120/120 [==============================] - 2s 16ms/step - loss: 0.2966 - accuracy: 0.8645 - val_loss: 0.3380 - val_accuracy: 0.8472\n",
      "Epoch 126/200\n",
      "120/120 [==============================] - 2s 16ms/step - loss: 0.2948 - accuracy: 0.8653 - val_loss: 0.3525 - val_accuracy: 0.8333\n",
      "Epoch 127/200\n",
      "120/120 [==============================] - 2s 15ms/step - loss: 0.3051 - accuracy: 0.8602 - val_loss: 0.3360 - val_accuracy: 0.8428\n",
      "Epoch 128/200\n",
      "120/120 [==============================] - 2s 16ms/step - loss: 0.2961 - accuracy: 0.8650 - val_loss: 0.3590 - val_accuracy: 0.8378\n",
      "Epoch 129/200\n",
      "120/120 [==============================] - 2s 18ms/step - loss: 0.2956 - accuracy: 0.8639 - val_loss: 0.3408 - val_accuracy: 0.8507\n",
      "Epoch 130/200\n",
      "120/120 [==============================] - 2s 16ms/step - loss: 0.2988 - accuracy: 0.8613 - val_loss: 0.3494 - val_accuracy: 0.8327\n",
      "Epoch 131/200\n",
      "120/120 [==============================] - 2s 18ms/step - loss: 0.2896 - accuracy: 0.8668 - val_loss: 0.3273 - val_accuracy: 0.8530\n",
      "Epoch 132/200\n",
      "120/120 [==============================] - 3s 22ms/step - loss: 0.2986 - accuracy: 0.8625 - val_loss: 0.3330 - val_accuracy: 0.8487\n",
      "Epoch 133/200\n",
      "120/120 [==============================] - 2s 19ms/step - loss: 0.2916 - accuracy: 0.8663 - val_loss: 0.3308 - val_accuracy: 0.8545\n",
      "Epoch 134/200\n",
      "120/120 [==============================] - 2s 19ms/step - loss: 0.2907 - accuracy: 0.8659 - val_loss: 0.3407 - val_accuracy: 0.8435\n",
      "Epoch 135/200\n",
      "120/120 [==============================] - 3s 21ms/step - loss: 0.2879 - accuracy: 0.8659 - val_loss: 0.3245 - val_accuracy: 0.8528\n",
      "Epoch 136/200\n",
      "120/120 [==============================] - 2s 16ms/step - loss: 0.2883 - accuracy: 0.8653 - val_loss: 0.3217 - val_accuracy: 0.8540\n",
      "Epoch 137/200\n",
      "120/120 [==============================] - 2s 20ms/step - loss: 0.2871 - accuracy: 0.8679 - val_loss: 0.3322 - val_accuracy: 0.8473\n",
      "Epoch 138/200\n",
      "120/120 [==============================] - 2s 17ms/step - loss: 0.2897 - accuracy: 0.8685 - val_loss: 0.3381 - val_accuracy: 0.8417\n",
      "Epoch 139/200\n",
      "120/120 [==============================] - 2s 16ms/step - loss: 0.2865 - accuracy: 0.8671 - val_loss: 0.3261 - val_accuracy: 0.8450\n",
      "Epoch 140/200\n",
      "120/120 [==============================] - 2s 16ms/step - loss: 0.2842 - accuracy: 0.8706 - val_loss: 0.3215 - val_accuracy: 0.8528\n",
      "Epoch 141/200\n",
      "120/120 [==============================] - 2s 16ms/step - loss: 0.2863 - accuracy: 0.8671 - val_loss: 0.3163 - val_accuracy: 0.8497\n",
      "Epoch 142/200\n",
      "120/120 [==============================] - 2s 16ms/step - loss: 0.2824 - accuracy: 0.8695 - val_loss: 0.3316 - val_accuracy: 0.8520\n",
      "Epoch 143/200\n",
      "120/120 [==============================] - 2s 16ms/step - loss: 0.2794 - accuracy: 0.8711 - val_loss: 0.3519 - val_accuracy: 0.8427\n",
      "Epoch 144/200\n",
      "120/120 [==============================] - 2s 21ms/step - loss: 0.2798 - accuracy: 0.8721 - val_loss: 0.3298 - val_accuracy: 0.8500\n",
      "Epoch 145/200\n",
      "120/120 [==============================] - 2s 18ms/step - loss: 0.2884 - accuracy: 0.8663 - val_loss: 0.3244 - val_accuracy: 0.8558\n",
      "Epoch 146/200\n",
      "120/120 [==============================] - 2s 17ms/step - loss: 0.2832 - accuracy: 0.8702 - val_loss: 0.3229 - val_accuracy: 0.8538\n",
      "Epoch 147/200\n",
      "120/120 [==============================] - 2s 18ms/step - loss: 0.2756 - accuracy: 0.8750 - val_loss: 0.3200 - val_accuracy: 0.8583\n",
      "Epoch 148/200\n",
      "120/120 [==============================] - 2s 18ms/step - loss: 0.2743 - accuracy: 0.8745 - val_loss: 0.3273 - val_accuracy: 0.8488\n",
      "Epoch 149/200\n",
      "120/120 [==============================] - 2s 16ms/step - loss: 0.2820 - accuracy: 0.8709 - val_loss: 0.3094 - val_accuracy: 0.8593\n",
      "Epoch 150/200\n",
      "120/120 [==============================] - 2s 16ms/step - loss: 0.2745 - accuracy: 0.8717 - val_loss: 0.3250 - val_accuracy: 0.8548\n",
      "Epoch 151/200\n",
      "120/120 [==============================] - 2s 18ms/step - loss: 0.2746 - accuracy: 0.8759 - val_loss: 0.3345 - val_accuracy: 0.8490\n",
      "Epoch 152/200\n",
      "120/120 [==============================] - 2s 17ms/step - loss: 0.2697 - accuracy: 0.8774 - val_loss: 0.3287 - val_accuracy: 0.8498\n",
      "Epoch 153/200\n",
      "120/120 [==============================] - 2s 16ms/step - loss: 0.2706 - accuracy: 0.8735 - val_loss: 0.3092 - val_accuracy: 0.8553\n",
      "Epoch 154/200\n",
      "120/120 [==============================] - 2s 16ms/step - loss: 0.2876 - accuracy: 0.8704 - val_loss: 0.3054 - val_accuracy: 0.8635\n",
      "Epoch 155/200\n",
      "120/120 [==============================] - 2s 15ms/step - loss: 0.2725 - accuracy: 0.8745 - val_loss: 0.3172 - val_accuracy: 0.8595\n",
      "Epoch 156/200\n",
      "120/120 [==============================] - 2s 16ms/step - loss: 0.2643 - accuracy: 0.8794 - val_loss: 0.3257 - val_accuracy: 0.8530\n",
      "Epoch 157/200\n",
      "120/120 [==============================] - 2s 16ms/step - loss: 0.2727 - accuracy: 0.8744 - val_loss: 0.3102 - val_accuracy: 0.8647\n",
      "Epoch 158/200\n",
      "120/120 [==============================] - 2s 15ms/step - loss: 0.2715 - accuracy: 0.8744 - val_loss: 0.3083 - val_accuracy: 0.8577\n",
      "Epoch 159/200\n",
      "120/120 [==============================] - 2s 16ms/step - loss: 0.2734 - accuracy: 0.8760 - val_loss: 0.3429 - val_accuracy: 0.8488\n",
      "Epoch 160/200\n",
      "120/120 [==============================] - 2s 16ms/step - loss: 0.2692 - accuracy: 0.8767 - val_loss: 0.2991 - val_accuracy: 0.8642\n",
      "Epoch 161/200\n",
      "120/120 [==============================] - 2s 16ms/step - loss: 0.2636 - accuracy: 0.8801 - val_loss: 0.3204 - val_accuracy: 0.8552\n",
      "Epoch 162/200\n",
      "120/120 [==============================] - 2s 16ms/step - loss: 0.2686 - accuracy: 0.8795 - val_loss: 0.3025 - val_accuracy: 0.8658\n",
      "Epoch 163/200\n",
      "120/120 [==============================] - 2s 16ms/step - loss: 0.2652 - accuracy: 0.8785 - val_loss: 0.3229 - val_accuracy: 0.8508\n",
      "Epoch 164/200\n",
      "120/120 [==============================] - 2s 17ms/step - loss: 0.2682 - accuracy: 0.8770 - val_loss: 0.3056 - val_accuracy: 0.8605\n",
      "Epoch 165/200\n",
      "120/120 [==============================] - 2s 17ms/step - loss: 0.2714 - accuracy: 0.8760 - val_loss: 0.3161 - val_accuracy: 0.8568\n",
      "Epoch 166/200\n",
      "120/120 [==============================] - 2s 15ms/step - loss: 0.2649 - accuracy: 0.8792 - val_loss: 0.3037 - val_accuracy: 0.8672\n",
      "Epoch 167/200\n",
      "120/120 [==============================] - 2s 17ms/step - loss: 0.2633 - accuracy: 0.8773 - val_loss: 0.3201 - val_accuracy: 0.8562\n",
      "Epoch 168/200\n",
      "120/120 [==============================] - 2s 16ms/step - loss: 0.2631 - accuracy: 0.8800 - val_loss: 0.2968 - val_accuracy: 0.8687\n",
      "Epoch 169/200\n",
      "120/120 [==============================] - 2s 17ms/step - loss: 0.2563 - accuracy: 0.8806 - val_loss: 0.3085 - val_accuracy: 0.8642\n",
      "Epoch 170/200\n",
      "120/120 [==============================] - 2s 16ms/step - loss: 0.2626 - accuracy: 0.8807 - val_loss: 0.3070 - val_accuracy: 0.8622\n",
      "Epoch 171/200\n",
      "120/120 [==============================] - 2s 17ms/step - loss: 0.2560 - accuracy: 0.8816 - val_loss: 0.2952 - val_accuracy: 0.8720\n",
      "Epoch 172/200\n",
      "120/120 [==============================] - 2s 17ms/step - loss: 0.2650 - accuracy: 0.8775 - val_loss: 0.3166 - val_accuracy: 0.8590\n",
      "Epoch 173/200\n",
      "120/120 [==============================] - 2s 18ms/step - loss: 0.2599 - accuracy: 0.8797 - val_loss: 0.2986 - val_accuracy: 0.8630\n",
      "Epoch 174/200\n",
      "120/120 [==============================] - 2s 17ms/step - loss: 0.2607 - accuracy: 0.8816 - val_loss: 0.3109 - val_accuracy: 0.8633\n",
      "Epoch 175/200\n",
      "120/120 [==============================] - 2s 18ms/step - loss: 0.2615 - accuracy: 0.8795 - val_loss: 0.2868 - val_accuracy: 0.8715\n",
      "Epoch 176/200\n",
      "120/120 [==============================] - 2s 18ms/step - loss: 0.2546 - accuracy: 0.8840 - val_loss: 0.2884 - val_accuracy: 0.8743\n",
      "Epoch 177/200\n",
      "120/120 [==============================] - 2s 16ms/step - loss: 0.2482 - accuracy: 0.8850 - val_loss: 0.3042 - val_accuracy: 0.8713\n",
      "Epoch 178/200\n",
      "120/120 [==============================] - 2s 18ms/step - loss: 0.2596 - accuracy: 0.8832 - val_loss: 0.3207 - val_accuracy: 0.8573\n",
      "Epoch 179/200\n",
      "120/120 [==============================] - 2s 16ms/step - loss: 0.2525 - accuracy: 0.8828 - val_loss: 0.3044 - val_accuracy: 0.8650\n",
      "Epoch 180/200\n",
      "120/120 [==============================] - 2s 18ms/step - loss: 0.2567 - accuracy: 0.8822 - val_loss: 0.3045 - val_accuracy: 0.8713\n",
      "Epoch 181/200\n",
      "120/120 [==============================] - 2s 17ms/step - loss: 0.2560 - accuracy: 0.8838 - val_loss: 0.3142 - val_accuracy: 0.8597\n",
      "Epoch 182/200\n",
      "120/120 [==============================] - 2s 16ms/step - loss: 0.2543 - accuracy: 0.8828 - val_loss: 0.3054 - val_accuracy: 0.8663\n",
      "Epoch 183/200\n",
      "120/120 [==============================] - 2s 17ms/step - loss: 0.2487 - accuracy: 0.8881 - val_loss: 0.2911 - val_accuracy: 0.8677\n",
      "Epoch 184/200\n",
      "120/120 [==============================] - 2s 17ms/step - loss: 0.2478 - accuracy: 0.8859 - val_loss: 0.3056 - val_accuracy: 0.8688\n",
      "Epoch 185/200\n",
      "120/120 [==============================] - 2s 17ms/step - loss: 0.2569 - accuracy: 0.8829 - val_loss: 0.2893 - val_accuracy: 0.8748\n",
      "Epoch 186/200\n",
      "120/120 [==============================] - 2s 18ms/step - loss: 0.2468 - accuracy: 0.8880 - val_loss: 0.2968 - val_accuracy: 0.8672\n",
      "Epoch 187/200\n",
      "120/120 [==============================] - 2s 19ms/step - loss: 0.2472 - accuracy: 0.8873 - val_loss: 0.2873 - val_accuracy: 0.8707\n",
      "Epoch 188/200\n",
      "120/120 [==============================] - 2s 17ms/step - loss: 0.2507 - accuracy: 0.8847 - val_loss: 0.2830 - val_accuracy: 0.8712\n",
      "Epoch 189/200\n",
      "120/120 [==============================] - 2s 17ms/step - loss: 0.2368 - accuracy: 0.8901 - val_loss: 0.2902 - val_accuracy: 0.8712\n",
      "Epoch 190/200\n",
      "120/120 [==============================] - 2s 17ms/step - loss: 0.2498 - accuracy: 0.8866 - val_loss: 0.3123 - val_accuracy: 0.8595\n",
      "Epoch 191/200\n",
      "120/120 [==============================] - 2s 17ms/step - loss: 0.2507 - accuracy: 0.8830 - val_loss: 0.3123 - val_accuracy: 0.8572\n",
      "Epoch 192/200\n",
      "120/120 [==============================] - 2s 17ms/step - loss: 0.2470 - accuracy: 0.8869 - val_loss: 0.2967 - val_accuracy: 0.8665\n",
      "Epoch 193/200\n",
      "120/120 [==============================] - 2s 17ms/step - loss: 0.2530 - accuracy: 0.8852 - val_loss: 0.2787 - val_accuracy: 0.8812\n",
      "Epoch 194/200\n",
      "120/120 [==============================] - 2s 15ms/step - loss: 0.2490 - accuracy: 0.8881 - val_loss: 0.2727 - val_accuracy: 0.8790\n",
      "Epoch 195/200\n",
      "120/120 [==============================] - 2s 15ms/step - loss: 0.2477 - accuracy: 0.8858 - val_loss: 0.2885 - val_accuracy: 0.8733\n",
      "Epoch 196/200\n",
      "120/120 [==============================] - 2s 15ms/step - loss: 0.2526 - accuracy: 0.8855 - val_loss: 0.2840 - val_accuracy: 0.8763\n",
      "Epoch 197/200\n",
      "120/120 [==============================] - 2s 15ms/step - loss: 0.2419 - accuracy: 0.8892 - val_loss: 0.3320 - val_accuracy: 0.8567\n",
      "Epoch 198/200\n",
      "120/120 [==============================] - 2s 16ms/step - loss: 0.2407 - accuracy: 0.8903 - val_loss: 0.2742 - val_accuracy: 0.8815\n",
      "Epoch 199/200\n",
      "120/120 [==============================] - 2s 16ms/step - loss: 0.2440 - accuracy: 0.8877 - val_loss: 0.2860 - val_accuracy: 0.8707\n",
      "Epoch 200/200\n",
      "120/120 [==============================] - 2s 15ms/step - loss: 0.2465 - accuracy: 0.8861 - val_loss: 0.2945 - val_accuracy: 0.8660\n"
     ]
    }
   ],
   "source": [
    "history=model.fit(X_train.values, y_train, epochs=200, batch_size=200, validation_data=(X_test.values,y_test))"
   ]
  },
  {
   "cell_type": "markdown",
   "id": "53d7f153",
   "metadata": {},
   "source": [
    "## Accuracy and Loss Plot-Graphs"
   ]
  },
  {
   "cell_type": "code",
   "execution_count": 55,
   "id": "947c5e6c",
   "metadata": {},
   "outputs": [
    {
     "data": {
      "image/png": "[encoded data removed]",
      "text/plain": [
       "<Figure size 800x600 with 1 Axes>"
      ]
     },
     "metadata": {},
     "output_type": "display_data"
    },
    {
     "data": {
      "image/png": "[encoded data removed]",
      "text/plain": [
       "<Figure size 800x600 with 1 Axes>"
      ]
     },
     "metadata": {},
     "output_type": "display_data"
    }
   ],
   "source": [
    "plt.figure(figsize=(8,6))\n",
    "plt.plot(history.history[\"accuracy\"],color='green', marker='o', linestyle='dashed')\n",
    "plt.plot(history.history[\"val_accuracy\"],color='red', marker='o', linestyle='dashed')\n",
    "plt.xlabel(\"Epochs\")\n",
    "plt.ylabel(\"Accuracy\")\n",
    "plt.title(\"Accuracy and Val_accuracy Plots\",fontsize=20)\n",
    "plt.show()\n",
    "\n",
    "plt.figure(figsize=(8,6))\n",
    "plt.plot(history.history[\"loss\"],color='green', marker='o', linestyle='dashed')\n",
    "plt.plot(history.history[\"val_loss\"],color='red', marker='o', linestyle='dashed')\n",
    "plt.xlabel(\"Epochs\")\n",
    "plt.ylabel(\"Loss\")\n",
    "plt.title(\"Loss and Val_loss\",fontsize=20)\n",
    "plt.show()"
   ]
  },
  {
   "cell_type": "code",
   "execution_count": 56,
   "id": "a68904d3",
   "metadata": {},
   "outputs": [
    {
     "name": "stdout",
     "output_type": "stream",
     "text": [
      "600/600 [==============================] - 2s 3ms/step - loss: 0.2945 - accuracy: 0.8660\n",
      "Ann model accuracy is: 0.8659999966621399\n"
     ]
    }
   ],
   "source": [
    "Accuracy=model.evaluate(x=X_test,y=y_test,batch_size=10)\n",
    "print(\"Ann model accuracy is:\",Accuracy[1])"
   ]
  },
  {
   "cell_type": "code",
   "execution_count": 57,
   "id": "fa5c6f34",
   "metadata": {},
   "outputs": [
    {
     "name": "stdout",
     "output_type": "stream",
     "text": [
      "600/600 [==============================] - 1s 2ms/step\n"
     ]
    }
   ],
   "source": [
    "Ann_pred=model.predict(X_test,batch_size=10,verbose=1)"
   ]
  },
  {
   "cell_type": "code",
   "execution_count": 58,
   "id": "17f1c4a8",
   "metadata": {},
   "outputs": [
    {
     "name": "stdout",
     "output_type": "stream",
     "text": [
      "6000\n"
     ]
    }
   ],
   "source": [
    "ann_predict=[]\n",
    "for i in range(0,len(Ann_pred)):\n",
    "    ann_predict.append(int(np.argmax(Ann_pred[i])))\n",
    "print(len(ann_predict))"
   ]
  },
  {
   "cell_type": "code",
   "execution_count": 59,
   "id": "55f364ef",
   "metadata": {},
   "outputs": [
    {
     "name": "stdout",
     "output_type": "stream",
     "text": [
      "[[1. 0.]\n",
      " [0. 1.]\n",
      " [1. 0.]\n",
      " ...\n",
      " [1. 0.]\n",
      " [0. 1.]\n",
      " [1. 0.]]\n"
     ]
    }
   ],
   "source": [
    "print(y_test)"
   ]
  },
  {
   "cell_type": "code",
   "execution_count": 60,
   "id": "1c0f2941",
   "metadata": {},
   "outputs": [
    {
     "name": "stdout",
     "output_type": "stream",
     "text": [
      "6000\n"
     ]
    }
   ],
   "source": [
    "y_true=[]\n",
    "for i in range(0,len(y_test)):\n",
    "    y_true.append(int(np.argmax(y_test[i])))\n",
    "print(len(y_true))"
   ]
  },
  {
   "cell_type": "markdown",
   "id": "1f39d229",
   "metadata": {},
   "source": [
    "## Result Analysis"
   ]
  },
  {
   "cell_type": "markdown",
   "id": "64a6dafe",
   "metadata": {},
   "source": [
    "### Classification Report"
   ]
  },
  {
   "cell_type": "code",
   "execution_count": 61,
   "id": "cdd504cb",
   "metadata": {},
   "outputs": [
    {
     "name": "stdout",
     "output_type": "stream",
     "text": [
      "              precision    recall  f1-score   support\n",
      "\n",
      "           0       0.85      0.89      0.87      3000\n",
      "           1       0.89      0.84      0.86      3000\n",
      "\n",
      "    accuracy                           0.87      6000\n",
      "   macro avg       0.87      0.87      0.87      6000\n",
      "weighted avg       0.87      0.87      0.87      6000\n",
      "\n"
     ]
    }
   ],
   "source": [
    "print(classification_report(y_true=y_true,y_pred=ann_predict))"
   ]
  },
  {
   "cell_type": "markdown",
   "id": "e7e159ed",
   "metadata": {},
   "source": [
    "### Confusion Matrix"
   ]
  },
  {
   "cell_type": "code",
   "execution_count": 62,
   "id": "b97fee37",
   "metadata": {},
   "outputs": [
    {
     "data": {
      "image/png": "[encoded data removed]",
      "text/plain": [
       "<Figure size 800x500 with 2 Axes>"
      ]
     },
     "metadata": {},
     "output_type": "display_data"
    }
   ],
   "source": [
    "plt.figure(figsize=(8,5))\n",
    "sns.heatmap(confusion_matrix(y_true=y_true,y_pred=ann_predict),annot=True,fmt='.4g')\n",
    "plt.show()"
   ]
  },
  {
   "cell_type": "markdown",
   "id": "8dabd20a",
   "metadata": {},
   "source": [
    "## Model Comparision"
   ]
  },
  {
   "cell_type": "code",
   "execution_count": 63,
   "id": "4f2d9033",
   "metadata": {},
   "outputs": [
    {
     "data": {
      "image/png": "[encoded data removed]",
      "text/plain": [
       "<Figure size 1500x700 with 1 Axes>"
      ]
     },
     "metadata": {},
     "output_type": "display_data"
    }
   ],
   "source": [
    "Accuracy_data=[RF_accuracy,Accuracy[1]]\n",
    "labels=[\"RF\",\"ANN\"]\n",
    "colors=[\"deeppink\",\"lime\"]\n",
    "plt.barh(y=labels,width=Accuracy_data,color=colors)\n",
    "plt.show()"
   ]
  },
  {
   "cell_type": "markdown",
   "id": "a34c8486",
   "metadata": {},
   "source": [
    "## Thank You"
   ]
  },
  {
   "cell_type": "code",
   "execution_count": null,
   "id": "5d7b1013",
   "metadata": {},
   "outputs": [],
   "source": []
  }
 ],
 "metadata": {
  "kernelspec": {
   "display_name": "Python 3 (ipykernel)",
   "language": "python",
   "name": "python3"
  },
  "language_info": {
   "codemirror_mode": {
    "name": "ipython",
    "version": 3
   },
   "file_extension": ".py",
   "mimetype": "text/x-python",
   "name": "python",
   "nbconvert_exporter": "python",
   "pygments_lexer": "ipython3",
   "version": "3.9.7"
  }
 },
 "nbformat": 4,
 "nbformat_minor": 5
}
